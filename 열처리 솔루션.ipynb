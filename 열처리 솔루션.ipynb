{
 "cells": [
  {
   "cell_type": "markdown",
   "id": "483f8d7b-7c5a-45b6-b6b8-a2f444d15f98",
   "metadata": {},
   "source": [
    "<img src='ipydata/열처리.png' align='center' width=\"1500px\"/>"
   ]
  },
  {
   "cell_type": "markdown",
   "id": "f87d3c88-0e50-48f4-bcf0-ae31534c306b",
   "metadata": {},
   "source": [
    "<ul><li style=\"font-size:2em;\">제조 데이터 준비</li></ul>\n",
    "<img src=\"ipydata/온도.png\" style=\"display:block; margin:0 auto; width:600px\">\n",
    "<br>\n",
    "<span style=\"font-size:20px;\">사용대상: 열처리 뿌리업종 내 가열로 내에서 발생하는 온도 제조데이터(Thermo Sensor활용)</span>"
   ]
  },
  {
   "cell_type": "markdown",
   "id": "f668ac65-dc1b-439e-9cba-d332e082e936",
   "metadata": {},
   "source": [
    "<ul><li style=\"font-size:2em;\">제조물</li></ul>\n",
    "\n",
    "<div style=\"width:1200px; margin:0 auto;\">\n",
    "<a href=\"#\"><img style=\"width:300px; height:200px\" src=\"ipydata/부품1.png\"></a>\n",
    "<a href=\"#\"><img style=\"width:300px; height:200px\" src=\"ipydata/부품3.png\"></a>\n",
    "<a href=\"#\"><img style=\"width:300px; height:200px\" src=\"ipydata/부품2.png\"></a>\n",
    "</div>\n",
    "<br>\n",
    "<span style=\"font-size:20px;\">선박 및 차량 부속용 금속 부품 Tempering</span>"
   ]
  },
  {
   "cell_type": "markdown",
   "id": "fd1b7209-cccc-4e98-a051-deb8c4f76580",
   "metadata": {},
   "source": [
    "<ul><li style=\"font-size:2em;\">현장문제</li></ul>\n",
    "<div style=\"width:1200px; margin:0 auto;\">\n",
    "<a href=\"#\"><img style=\"width:400px; height:200px\" src=\"ipydata/가열1.png\"></a>\n",
    "<a href=\"#\"><img style=\"width:350px; height:200px\" src=\"ipydata/가열2.png\"></a>\n",
    "</div>\n",
    "<br>\n",
    "<span style=\"font-size:20px;\"><br>공정 시 가열로는 폐쇄된 상태로 작동하기 때문에 내부 상태를 확인할 수 없어 품질 상태를 예측할 수 없고 공정이 끝난 뒤에야 공정에 대한 불량을 감지할 수 있음</span>"
   ]
  },
  {
   "cell_type": "markdown",
   "id": "759923de-34c4-4af0-b45b-aa6ebd5636cd",
   "metadata": {
    "tags": []
   },
   "source": [
    "<ul><li style=\"font-size:2em;\">제조AI 개발 목적</li></ul>\n",
    "<img src=\"ipydata/예측.png\" style=\"display:block; margin:0 auto;\"><br>\n",
    "<br>\n",
    "<span style=\"font-size:20px;\">가열로 내 온도 제조데이터를 활용하여 가열로 내부의 상태를 파악하고,<br>이를 통해 산출물의 품질 상태를 예측하고, 불량 발생 예측 시 공정 조건 변경을 진행하여 불량률을 줄이기 위함</span>"
   ]
  },
  {
   "cell_type": "markdown",
   "id": "8460e748-3cff-4bb4-ab31-09d9c7a4fdc1",
   "metadata": {},
   "source": [
    "### 코드에 필요한 모듈 설치"
   ]
  },
  {
   "cell_type": "code",
   "execution_count": 1,
   "id": "83372822",
   "metadata": {
    "tags": []
   },
   "outputs": [],
   "source": [
    "# !pip install tensorflow --user\n",
    "# !pip install keras --user\n",
    "# !pip install pandas --user\n",
    "# !pip install numpy --user\n",
    "# !pip install sklearn --user\n",
    "# !pip install seaborn --user\n",
    "# !pip install datetime --user\n",
    "# !pip install matplotlib --user\n",
    "# !pip install pydot --user\n",
    "# !pip install graphviz --user\n",
    "# !pip install protobuf==3.20.1"
   ]
  },
  {
   "cell_type": "markdown",
   "id": "a49c7050-1a5c-4714-9963-38e52f2ce908",
   "metadata": {},
   "source": [
    "# Library Import"
   ]
  },
  {
   "cell_type": "markdown",
   "id": "496d7696-e4d1-437f-bcae-f5c4806f2d7f",
   "metadata": {},
   "source": [
    "### 엑셀 제조데이터 및 AI 모델을 사용하기 위해 다음 모듈 사용"
   ]
  },
  {
   "cell_type": "code",
   "execution_count": 1,
   "id": "c5054810",
   "metadata": {
    "tags": []
   },
   "outputs": [
    {
     "name": "stderr",
     "output_type": "stream",
     "text": [
      "2023-04-17 06:53:44.408373: I tensorflow/core/util/port.cc:110] oneDNN custom operations are on. You may see slightly different numerical results due to floating-point round-off errors from different computation orders. To turn them off, set the environment variable `TF_ENABLE_ONEDNN_OPTS=0`.\n",
      "2023-04-17 06:53:44.411210: I tensorflow/tsl/cuda/cudart_stub.cc:28] Could not find cuda drivers on your machine, GPU will not be used.\n",
      "2023-04-17 06:53:44.471355: I tensorflow/tsl/cuda/cudart_stub.cc:28] Could not find cuda drivers on your machine, GPU will not be used.\n",
      "2023-04-17 06:53:44.473135: I tensorflow/core/platform/cpu_feature_guard.cc:182] This TensorFlow binary is optimized to use available CPU instructions in performance-critical operations.\n",
      "To enable the following instructions: AVX2 AVX512F AVX512_VNNI FMA, in other operations, rebuild TensorFlow with the appropriate compiler flags.\n",
      "2023-04-17 06:53:45.363490: W tensorflow/compiler/tf2tensorrt/utils/py_utils.cc:38] TF-TRT Warning: Could not find TensorRT\n"
     ]
    }
   ],
   "source": [
    "import os\n",
    "import pandas as pd\n",
    "import numpy as np\n",
    "import matplotlib.pyplot as plt\n",
    "#from datetime import datetime\n",
    "import datetime\n",
    "from sklearn import tree\n",
    "import seaborn as sns\n",
    "from sklearn.metrics import mean_squared_error\n",
    "from math import sqrt\n",
    "from tensorflow.keras.utils import plot_model\n",
    "from sklearn.model_selection import train_test_split\n",
    "import tensorflow"
   ]
  },
  {
   "cell_type": "markdown",
   "id": "c331bba0-5a17-4253-a5a8-bdb9b4b04b90",
   "metadata": {},
   "source": [
    "### 모델의 평가를 위해 다음 모듈 사용"
   ]
  },
  {
   "cell_type": "code",
   "execution_count": 2,
   "id": "550aedb1",
   "metadata": {
    "tags": []
   },
   "outputs": [],
   "source": [
    "from sklearn.metrics import confusion_matrix\n",
    "from sklearn.metrics import accuracy_score\n",
    "from sklearn.metrics import precision_score\n",
    "from sklearn.metrics import recall_score\n",
    "from sklearn.metrics import f1_score\n",
    "from sklearn.metrics import roc_curve\n",
    "from sklearn.metrics import classification_report"
   ]
  },
  {
   "cell_type": "markdown",
   "id": "2cc924e8",
   "metadata": {},
   "source": [
    "# Data List"
   ]
  },
  {
   "cell_type": "markdown",
   "id": "9935cc75",
   "metadata": {},
   "source": [
    "제조 데이터 폴더 내 csv 파일 리스트를 생성해, process rate 제조 데이터 파일을 error_list에 저장하고, pH와 Temp 제조 데이터 파일을 data_list에 저장했다. "
   ]
  },
  {
   "cell_type": "markdown",
   "id": "11acabfd-7a52-4ec7-a4d6-ef1ad261188c",
   "metadata": {},
   "source": [
    "### 제조데이터를 가져오기 위해 제조데이터 폴더 내 파일 리스트 생성"
   ]
  },
  {
   "cell_type": "code",
   "execution_count": 3,
   "id": "c373b19d",
   "metadata": {
    "tags": []
   },
   "outputs": [
    {
     "name": "stdout",
     "output_type": "stream",
     "text": [
      "File Lists :  ['kemp-abh-sensor-2021.10.22.csv', 'kemp-abh-sensor-2021.10.08.csv', 'kemp-abh-sensor-2021.09.27.csv', 'kemp-abh-sensor-2021.09.28.csv', 'kemp-abh-sensor-2021.09.08.csv', 'kemp-abh-sensor-2021.10.15.csv', 'kemp-abh-sensor-2021.09.07.csv', 'kemp-abh-sensor-2021.10.12.csv', 'kemp-abh-sensor-2021.10.14.csv', 'kemp-abh-sensor-2021.10.26.csv', 'kemp-abh-sensor-2021.10.21.csv', 'kemp-abh-sensor-2021.09.06.csv', 'kemp-abh-sensor-2021.09.10.csv', 'kemp-abh-sensor-2021.09.17.csv', 'kemp-abh-sensor-2021.09.29.csv', 'kemp-abh-sensor-2021.10.13.csv', 'kemp-abh-sensor-2021.09.13.csv', 'kemp-process-rate.csv', 'kemp-abh-sensor-2021.09.16.csv', 'kemp-abh-sensor-2021.09.15.csv', 'kemp-abh-sensor-2021.09.30.csv', 'kemp-abh-sensor-2021.10.05.csv', 'kemp-abh-sensor-2021.09.23.csv', 'kemp-abh-sensor-2021.09.09.csv', 'kemp-abh-sensor-2021.10.06.csv', 'kemp-abh-sensor-2021.10.07.csv', 'kemp-abh-sensor-2021.10.20.csv', 'kemp-abh-sensor-2021.10.19.csv', 'kemp-abh-sensor-2021.10.27.csv', 'kemp-abh-sensor-2021.09.24.csv', 'kemp-abh-sensor-2021.10.18.csv', 'kemp-abh-sensor-2021.10.25.csv', 'kemp-abh-sensor-2021.10.01.csv', 'kemp-abh-sensor-2021.09.14.csv']\n"
     ]
    }
   ],
   "source": [
    "# 파일 리스트 호출\n",
    "root_dir = os.path.join(os.getcwd(), 'data')\n",
    "f_lists = os.listdir(root_dir)\n",
    "print(\"File Lists : \", f_lists)"
   ]
  },
  {
   "cell_type": "markdown",
   "id": "666b0c8e-7081-440a-a571-1be6e4ee95e4",
   "metadata": {},
   "source": [
    "### 파일 리스트 중, csv로 된 파일만 가져와 제조데이터 파일 리스트 생성"
   ]
  },
  {
   "cell_type": "code",
   "execution_count": 4,
   "id": "9bccb128",
   "metadata": {
    "tags": []
   },
   "outputs": [
    {
     "name": "stdout",
     "output_type": "stream",
     "text": [
      "File Lists :  ['kemp-abh-sensor-2021.09.06.csv', 'kemp-abh-sensor-2021.09.07.csv', 'kemp-abh-sensor-2021.09.08.csv', 'kemp-abh-sensor-2021.09.09.csv', 'kemp-abh-sensor-2021.09.10.csv', 'kemp-abh-sensor-2021.09.13.csv', 'kemp-abh-sensor-2021.09.14.csv', 'kemp-abh-sensor-2021.09.15.csv', 'kemp-abh-sensor-2021.09.16.csv', 'kemp-abh-sensor-2021.09.17.csv', 'kemp-abh-sensor-2021.09.23.csv', 'kemp-abh-sensor-2021.09.24.csv', 'kemp-abh-sensor-2021.09.27.csv', 'kemp-abh-sensor-2021.09.28.csv', 'kemp-abh-sensor-2021.09.29.csv', 'kemp-abh-sensor-2021.09.30.csv', 'kemp-abh-sensor-2021.10.01.csv', 'kemp-abh-sensor-2021.10.05.csv', 'kemp-abh-sensor-2021.10.06.csv', 'kemp-abh-sensor-2021.10.07.csv', 'kemp-abh-sensor-2021.10.08.csv', 'kemp-abh-sensor-2021.10.12.csv', 'kemp-abh-sensor-2021.10.13.csv', 'kemp-abh-sensor-2021.10.14.csv', 'kemp-abh-sensor-2021.10.15.csv', 'kemp-abh-sensor-2021.10.18.csv', 'kemp-abh-sensor-2021.10.19.csv', 'kemp-abh-sensor-2021.10.20.csv', 'kemp-abh-sensor-2021.10.21.csv', 'kemp-abh-sensor-2021.10.22.csv', 'kemp-abh-sensor-2021.10.25.csv', 'kemp-abh-sensor-2021.10.26.csv', 'kemp-abh-sensor-2021.10.27.csv', 'kemp-process-rate.csv']\n"
     ]
    }
   ],
   "source": [
    "# csv 파일만 저장\n",
    "new_file_lists = [f for f in f_lists if f.endswith('.csv')]\n",
    "new_file_lists = sorted(new_file_lists)\n",
    "print(\"File Lists : \", new_file_lists)"
   ]
  },
  {
   "cell_type": "markdown",
   "id": "34ec142b-7a0c-4abf-a05c-d284d656eb69",
   "metadata": {},
   "source": [
    "### 제조데이터 파일 리스트 중 공정 제조데이터와 결과 제조데이터를 분리"
   ]
  },
  {
   "cell_type": "code",
   "execution_count": 5,
   "id": "a5b4aeb2",
   "metadata": {
    "tags": []
   },
   "outputs": [
    {
     "name": "stdout",
     "output_type": "stream",
     "text": [
      "Data Lists :  ['kemp-abh-sensor-2021.09.06.csv', 'kemp-abh-sensor-2021.09.07.csv', 'kemp-abh-sensor-2021.09.08.csv', 'kemp-abh-sensor-2021.09.09.csv', 'kemp-abh-sensor-2021.09.10.csv', 'kemp-abh-sensor-2021.09.13.csv', 'kemp-abh-sensor-2021.09.14.csv', 'kemp-abh-sensor-2021.09.15.csv', 'kemp-abh-sensor-2021.09.16.csv', 'kemp-abh-sensor-2021.09.17.csv', 'kemp-abh-sensor-2021.09.23.csv', 'kemp-abh-sensor-2021.09.24.csv', 'kemp-abh-sensor-2021.09.27.csv', 'kemp-abh-sensor-2021.09.28.csv', 'kemp-abh-sensor-2021.09.29.csv', 'kemp-abh-sensor-2021.09.30.csv', 'kemp-abh-sensor-2021.10.01.csv', 'kemp-abh-sensor-2021.10.05.csv', 'kemp-abh-sensor-2021.10.06.csv', 'kemp-abh-sensor-2021.10.07.csv', 'kemp-abh-sensor-2021.10.08.csv', 'kemp-abh-sensor-2021.10.12.csv', 'kemp-abh-sensor-2021.10.13.csv', 'kemp-abh-sensor-2021.10.14.csv', 'kemp-abh-sensor-2021.10.15.csv', 'kemp-abh-sensor-2021.10.18.csv', 'kemp-abh-sensor-2021.10.19.csv', 'kemp-abh-sensor-2021.10.20.csv', 'kemp-abh-sensor-2021.10.21.csv', 'kemp-abh-sensor-2021.10.22.csv', 'kemp-abh-sensor-2021.10.25.csv', 'kemp-abh-sensor-2021.10.26.csv', 'kemp-abh-sensor-2021.10.27.csv']\n",
      "Error Data List :  kemp-process-rate.csv\n"
     ]
    }
   ],
   "source": [
    "# process Rate 제조데이터 파일을 Error Data List에 저장하고, pH와 Temp 제조데이터 파일을 data lists에 저장\n",
    "data_lists = new_file_lists[:-1]\n",
    "error_list = new_file_lists[-1]\n",
    "print(\"Data Lists : \", data_lists)\n",
    "print(\"Error Data List : \", error_list)"
   ]
  },
  {
   "cell_type": "markdown",
   "id": "bb5b6422",
   "metadata": {},
   "source": [
    "# Make Function"
   ]
  },
  {
   "cell_type": "markdown",
   "id": "663f96ef",
   "metadata": {},
   "source": [
    "리스트에 있는 csv 파일을 읽는다. \\\n",
    "파일 내에 날짜 및 시간 정보를 'Time'으로 날짜 정보를 'DTime' 컬럼으로 나머지 정보를 해당 컬럼으로 구성된 데이터 프레임을 생성한다. "
   ]
  },
  {
   "cell_type": "markdown",
   "id": "026cadcf-9afb-4f31-a9e7-7a66e611e3ce",
   "metadata": {},
   "source": [
    "### 제조데이터를 하나의 프레임으로 만드는 함수 정의"
   ]
  },
  {
   "cell_type": "code",
   "execution_count": 6,
   "id": "da9ee4ca",
   "metadata": {
    "tags": []
   },
   "outputs": [],
   "source": [
    "# 파일을 불러와 파일 이름에서 날짜(연, 월, 일)을 추출하여, 날짜(연월일)와 시간은 Time 컬럼으로 날짜(연월일)는 DTime 컬럼으로 넣은 제조데이터 프레임 형성\n",
    "def csv_read_(data_dir, data_list):\n",
    "    tmp = pd.read_csv(os.path.join(data_dir, data_list), sep=',')\n",
    "    y, m, d = map(int, data_list.split('-')[-1].split('.')[:-1]) # 파일 이름에서 연, 월, 일 추출\n",
    "    time = tmp['Time']\n",
    "    tmp['DTime'] = '-'.join(data_list.split('-')[-1].split('.')[:-1]) # 날짜(연, 월, 일만)를 Dtime 컬럼에 저장\n",
    "    ctime = time.apply(lambda _ : _.replace(u'오후', 'PM').replace(u'오전', 'AM')) # 오전 -> AM으로 오후 -> PM으로 변환\n",
    "    n_time = ctime.apply(lambda _ : datetime.datetime.strptime(_, \"%p %I:%M:%S\")) # 시, 분, 초 입력\n",
    "    newtime = n_time.apply(lambda _ : _.replace(year=y, month=m, day=d)) # 시, 분, 초 앞에 날짜 입력\n",
    "    tmp['Time'] = newtime # Time 컬럼에 '연-월-일 시:분:초' 제조데이터 저장\n",
    "    return tmp"
   ]
  },
  {
   "cell_type": "markdown",
   "id": "aefeeb13",
   "metadata": {
    "tags": []
   },
   "source": [
    "# Make Dedicated DataFrame"
   ]
  },
  {
   "cell_type": "markdown",
   "id": "2a833dcd",
   "metadata": {},
   "source": [
    "제조 데이터 파일 리스트의 모든 파일을 불러, 모든 파일 데이터를 하나의 데이터 프레임에 merge해 모든 제조 데이터를 하나의 데이터 프레임에 저장했다. \\\n",
    "Time을 index로 지정하고, null값을 제거하는 전처리를 실행했다. \\\n",
    "Lot 번호의 중복 없는 값과, Time 날짜의 중복 없는 값을 각 리스트에 저장했다."
   ]
  },
  {
   "cell_type": "markdown",
   "id": "56c6f069-c16a-4629-9ac5-fe775d7e502c",
   "metadata": {},
   "source": [
    "### 위에서 만든 함수를 통해 하나의 공정 제조데이터 프레임으로 생성"
   ]
  },
  {
   "cell_type": "code",
   "execution_count": 7,
   "id": "f17fc676",
   "metadata": {
    "tags": []
   },
   "outputs": [
    {
     "data": {
      "text/html": [
       "<div>\n",
       "<style scoped>\n",
       "    .dataframe tbody tr th:only-of-type {\n",
       "        vertical-align: middle;\n",
       "    }\n",
       "\n",
       "    .dataframe tbody tr th {\n",
       "        vertical-align: top;\n",
       "    }\n",
       "\n",
       "    .dataframe thead th {\n",
       "        text-align: right;\n",
       "    }\n",
       "</style>\n",
       "<table border=\"1\" class=\"dataframe\">\n",
       "  <thead>\n",
       "    <tr style=\"text-align: right;\">\n",
       "      <th></th>\n",
       "      <th>Index</th>\n",
       "      <th>LoT</th>\n",
       "      <th>Time</th>\n",
       "      <th>pH</th>\n",
       "      <th>Temp</th>\n",
       "      <th>DTime</th>\n",
       "    </tr>\n",
       "  </thead>\n",
       "  <tbody>\n",
       "    <tr>\n",
       "      <th>0</th>\n",
       "      <td>1</td>\n",
       "      <td>1</td>\n",
       "      <td>2021-09-06 09:01:18</td>\n",
       "      <td>1.02</td>\n",
       "      <td>47.18</td>\n",
       "      <td>2021-09-06</td>\n",
       "    </tr>\n",
       "    <tr>\n",
       "      <th>1</th>\n",
       "      <td>2</td>\n",
       "      <td>1</td>\n",
       "      <td>2021-09-06 09:01:23</td>\n",
       "      <td>1.05</td>\n",
       "      <td>47.34</td>\n",
       "      <td>2021-09-06</td>\n",
       "    </tr>\n",
       "    <tr>\n",
       "      <th>2</th>\n",
       "      <td>3</td>\n",
       "      <td>1</td>\n",
       "      <td>2021-09-06 09:01:28</td>\n",
       "      <td>1.09</td>\n",
       "      <td>48.45</td>\n",
       "      <td>2021-09-06</td>\n",
       "    </tr>\n",
       "    <tr>\n",
       "      <th>3</th>\n",
       "      <td>4</td>\n",
       "      <td>1</td>\n",
       "      <td>2021-09-06 09:01:33</td>\n",
       "      <td>1.12</td>\n",
       "      <td>48.46</td>\n",
       "      <td>2021-09-06</td>\n",
       "    </tr>\n",
       "    <tr>\n",
       "      <th>4</th>\n",
       "      <td>5</td>\n",
       "      <td>1</td>\n",
       "      <td>2021-09-06 09:01:38</td>\n",
       "      <td>1.15</td>\n",
       "      <td>48.47</td>\n",
       "      <td>2021-09-06</td>\n",
       "    </tr>\n",
       "    <tr>\n",
       "      <th>...</th>\n",
       "      <td>...</td>\n",
       "      <td>...</td>\n",
       "      <td>...</td>\n",
       "      <td>...</td>\n",
       "      <td>...</td>\n",
       "      <td>...</td>\n",
       "    </tr>\n",
       "    <tr>\n",
       "      <th>50089</th>\n",
       "      <td>1514</td>\n",
       "      <td>22</td>\n",
       "      <td>2021-10-27 11:14:41</td>\n",
       "      <td>2.79</td>\n",
       "      <td>51.83</td>\n",
       "      <td>2021-10-27</td>\n",
       "    </tr>\n",
       "    <tr>\n",
       "      <th>50090</th>\n",
       "      <td>1515</td>\n",
       "      <td>22</td>\n",
       "      <td>2021-10-27 11:14:46</td>\n",
       "      <td>3.62</td>\n",
       "      <td>42.20</td>\n",
       "      <td>2021-10-27</td>\n",
       "    </tr>\n",
       "    <tr>\n",
       "      <th>50091</th>\n",
       "      <td>1516</td>\n",
       "      <td>22</td>\n",
       "      <td>2021-10-27 11:14:51</td>\n",
       "      <td>3.40</td>\n",
       "      <td>41.88</td>\n",
       "      <td>2021-10-27</td>\n",
       "    </tr>\n",
       "    <tr>\n",
       "      <th>50092</th>\n",
       "      <td>1517</td>\n",
       "      <td>22</td>\n",
       "      <td>2021-10-27 11:14:56</td>\n",
       "      <td>3.59</td>\n",
       "      <td>40.62</td>\n",
       "      <td>2021-10-27</td>\n",
       "    </tr>\n",
       "    <tr>\n",
       "      <th>50093</th>\n",
       "      <td>1518</td>\n",
       "      <td>22</td>\n",
       "      <td>2021-10-27 11:15:01</td>\n",
       "      <td>3.82</td>\n",
       "      <td>42.08</td>\n",
       "      <td>2021-10-27</td>\n",
       "    </tr>\n",
       "  </tbody>\n",
       "</table>\n",
       "<p>50094 rows × 6 columns</p>\n",
       "</div>"
      ],
      "text/plain": [
       "       Index  LoT                Time    pH   Temp       DTime\n",
       "0          1    1 2021-09-06 09:01:18  1.02  47.18  2021-09-06\n",
       "1          2    1 2021-09-06 09:01:23  1.05  47.34  2021-09-06\n",
       "2          3    1 2021-09-06 09:01:28  1.09  48.45  2021-09-06\n",
       "3          4    1 2021-09-06 09:01:33  1.12  48.46  2021-09-06\n",
       "4          5    1 2021-09-06 09:01:38  1.15  48.47  2021-09-06\n",
       "...      ...  ...                 ...   ...    ...         ...\n",
       "50089   1514   22 2021-10-27 11:14:41  2.79  51.83  2021-10-27\n",
       "50090   1515   22 2021-10-27 11:14:46  3.62  42.20  2021-10-27\n",
       "50091   1516   22 2021-10-27 11:14:51  3.40  41.88  2021-10-27\n",
       "50092   1517   22 2021-10-27 11:14:56  3.59  40.62  2021-10-27\n",
       "50093   1518   22 2021-10-27 11:15:01  3.82  42.08  2021-10-27\n",
       "\n",
       "[50094 rows x 6 columns]"
      ]
     },
     "execution_count": 7,
     "metadata": {},
     "output_type": "execute_result"
    }
   ],
   "source": [
    "# PH, Temp 제조데이터 파일을 모두 불러와 하나의 제조데이터 프레임으로 합병\n",
    "dd = csv_read_(root_dir, data_lists[0])\n",
    "for i in range(1, len(data_lists)):\n",
    "    dd = pd.merge(dd, csv_read_(root_dir, data_lists[i]), how='outer')\n",
    "dd"
   ]
  },
  {
   "cell_type": "markdown",
   "id": "8fe4d443-9b0a-4717-a4b2-80e064ae4147",
   "metadata": {},
   "source": [
    "### 제조데이터 프레임내 Index 컬럼 제거"
   ]
  },
  {
   "cell_type": "code",
   "execution_count": 8,
   "id": "b8495a69",
   "metadata": {
    "tags": []
   },
   "outputs": [
    {
     "data": {
      "text/html": [
       "<div>\n",
       "<style scoped>\n",
       "    .dataframe tbody tr th:only-of-type {\n",
       "        vertical-align: middle;\n",
       "    }\n",
       "\n",
       "    .dataframe tbody tr th {\n",
       "        vertical-align: top;\n",
       "    }\n",
       "\n",
       "    .dataframe thead th {\n",
       "        text-align: right;\n",
       "    }\n",
       "</style>\n",
       "<table border=\"1\" class=\"dataframe\">\n",
       "  <thead>\n",
       "    <tr style=\"text-align: right;\">\n",
       "      <th></th>\n",
       "      <th>LoT</th>\n",
       "      <th>Time</th>\n",
       "      <th>pH</th>\n",
       "      <th>Temp</th>\n",
       "      <th>DTime</th>\n",
       "    </tr>\n",
       "  </thead>\n",
       "  <tbody>\n",
       "    <tr>\n",
       "      <th>0</th>\n",
       "      <td>1</td>\n",
       "      <td>2021-09-06 09:01:18</td>\n",
       "      <td>1.02</td>\n",
       "      <td>47.18</td>\n",
       "      <td>2021-09-06</td>\n",
       "    </tr>\n",
       "    <tr>\n",
       "      <th>1</th>\n",
       "      <td>1</td>\n",
       "      <td>2021-09-06 09:01:23</td>\n",
       "      <td>1.05</td>\n",
       "      <td>47.34</td>\n",
       "      <td>2021-09-06</td>\n",
       "    </tr>\n",
       "    <tr>\n",
       "      <th>2</th>\n",
       "      <td>1</td>\n",
       "      <td>2021-09-06 09:01:28</td>\n",
       "      <td>1.09</td>\n",
       "      <td>48.45</td>\n",
       "      <td>2021-09-06</td>\n",
       "    </tr>\n",
       "    <tr>\n",
       "      <th>3</th>\n",
       "      <td>1</td>\n",
       "      <td>2021-09-06 09:01:33</td>\n",
       "      <td>1.12</td>\n",
       "      <td>48.46</td>\n",
       "      <td>2021-09-06</td>\n",
       "    </tr>\n",
       "    <tr>\n",
       "      <th>4</th>\n",
       "      <td>1</td>\n",
       "      <td>2021-09-06 09:01:38</td>\n",
       "      <td>1.15</td>\n",
       "      <td>48.47</td>\n",
       "      <td>2021-09-06</td>\n",
       "    </tr>\n",
       "    <tr>\n",
       "      <th>...</th>\n",
       "      <td>...</td>\n",
       "      <td>...</td>\n",
       "      <td>...</td>\n",
       "      <td>...</td>\n",
       "      <td>...</td>\n",
       "    </tr>\n",
       "    <tr>\n",
       "      <th>50089</th>\n",
       "      <td>22</td>\n",
       "      <td>2021-10-27 11:14:41</td>\n",
       "      <td>2.79</td>\n",
       "      <td>51.83</td>\n",
       "      <td>2021-10-27</td>\n",
       "    </tr>\n",
       "    <tr>\n",
       "      <th>50090</th>\n",
       "      <td>22</td>\n",
       "      <td>2021-10-27 11:14:46</td>\n",
       "      <td>3.62</td>\n",
       "      <td>42.20</td>\n",
       "      <td>2021-10-27</td>\n",
       "    </tr>\n",
       "    <tr>\n",
       "      <th>50091</th>\n",
       "      <td>22</td>\n",
       "      <td>2021-10-27 11:14:51</td>\n",
       "      <td>3.40</td>\n",
       "      <td>41.88</td>\n",
       "      <td>2021-10-27</td>\n",
       "    </tr>\n",
       "    <tr>\n",
       "      <th>50092</th>\n",
       "      <td>22</td>\n",
       "      <td>2021-10-27 11:14:56</td>\n",
       "      <td>3.59</td>\n",
       "      <td>40.62</td>\n",
       "      <td>2021-10-27</td>\n",
       "    </tr>\n",
       "    <tr>\n",
       "      <th>50093</th>\n",
       "      <td>22</td>\n",
       "      <td>2021-10-27 11:15:01</td>\n",
       "      <td>3.82</td>\n",
       "      <td>42.08</td>\n",
       "      <td>2021-10-27</td>\n",
       "    </tr>\n",
       "  </tbody>\n",
       "</table>\n",
       "<p>50094 rows × 5 columns</p>\n",
       "</div>"
      ],
      "text/plain": [
       "       LoT                Time    pH   Temp       DTime\n",
       "0        1 2021-09-06 09:01:18  1.02  47.18  2021-09-06\n",
       "1        1 2021-09-06 09:01:23  1.05  47.34  2021-09-06\n",
       "2        1 2021-09-06 09:01:28  1.09  48.45  2021-09-06\n",
       "3        1 2021-09-06 09:01:33  1.12  48.46  2021-09-06\n",
       "4        1 2021-09-06 09:01:38  1.15  48.47  2021-09-06\n",
       "...    ...                 ...   ...    ...         ...\n",
       "50089   22 2021-10-27 11:14:41  2.79  51.83  2021-10-27\n",
       "50090   22 2021-10-27 11:14:46  3.62  42.20  2021-10-27\n",
       "50091   22 2021-10-27 11:14:51  3.40  41.88  2021-10-27\n",
       "50092   22 2021-10-27 11:14:56  3.59  40.62  2021-10-27\n",
       "50093   22 2021-10-27 11:15:01  3.82  42.08  2021-10-27\n",
       "\n",
       "[50094 rows x 5 columns]"
      ]
     },
     "execution_count": 8,
     "metadata": {},
     "output_type": "execute_result"
    }
   ],
   "source": [
    "# 합병 과정 중 생긴 Index 컬럼 제거\n",
    "dd = dd.drop('Index', axis=1)\n",
    "dd"
   ]
  },
  {
   "cell_type": "markdown",
   "id": "cdfbf3cc-fbfc-4056-8069-25c87076f6fa",
   "metadata": {},
   "source": [
    "### 제조데이터 프레임 Index를 Time으로 지정"
   ]
  },
  {
   "cell_type": "code",
   "execution_count": 9,
   "id": "93ce57b3",
   "metadata": {
    "tags": []
   },
   "outputs": [
    {
     "data": {
      "text/html": [
       "<div>\n",
       "<style scoped>\n",
       "    .dataframe tbody tr th:only-of-type {\n",
       "        vertical-align: middle;\n",
       "    }\n",
       "\n",
       "    .dataframe tbody tr th {\n",
       "        vertical-align: top;\n",
       "    }\n",
       "\n",
       "    .dataframe thead th {\n",
       "        text-align: right;\n",
       "    }\n",
       "</style>\n",
       "<table border=\"1\" class=\"dataframe\">\n",
       "  <thead>\n",
       "    <tr style=\"text-align: right;\">\n",
       "      <th></th>\n",
       "      <th>LoT</th>\n",
       "      <th>pH</th>\n",
       "      <th>Temp</th>\n",
       "      <th>DTime</th>\n",
       "    </tr>\n",
       "    <tr>\n",
       "      <th>Time</th>\n",
       "      <th></th>\n",
       "      <th></th>\n",
       "      <th></th>\n",
       "      <th></th>\n",
       "    </tr>\n",
       "  </thead>\n",
       "  <tbody>\n",
       "    <tr>\n",
       "      <th>2021-09-06 09:01:18</th>\n",
       "      <td>1</td>\n",
       "      <td>1.02</td>\n",
       "      <td>47.18</td>\n",
       "      <td>2021-09-06</td>\n",
       "    </tr>\n",
       "    <tr>\n",
       "      <th>2021-09-06 09:01:23</th>\n",
       "      <td>1</td>\n",
       "      <td>1.05</td>\n",
       "      <td>47.34</td>\n",
       "      <td>2021-09-06</td>\n",
       "    </tr>\n",
       "    <tr>\n",
       "      <th>2021-09-06 09:01:28</th>\n",
       "      <td>1</td>\n",
       "      <td>1.09</td>\n",
       "      <td>48.45</td>\n",
       "      <td>2021-09-06</td>\n",
       "    </tr>\n",
       "    <tr>\n",
       "      <th>2021-09-06 09:01:33</th>\n",
       "      <td>1</td>\n",
       "      <td>1.12</td>\n",
       "      <td>48.46</td>\n",
       "      <td>2021-09-06</td>\n",
       "    </tr>\n",
       "    <tr>\n",
       "      <th>2021-09-06 09:01:38</th>\n",
       "      <td>1</td>\n",
       "      <td>1.15</td>\n",
       "      <td>48.47</td>\n",
       "      <td>2021-09-06</td>\n",
       "    </tr>\n",
       "    <tr>\n",
       "      <th>...</th>\n",
       "      <td>...</td>\n",
       "      <td>...</td>\n",
       "      <td>...</td>\n",
       "      <td>...</td>\n",
       "    </tr>\n",
       "    <tr>\n",
       "      <th>2021-10-27 11:14:41</th>\n",
       "      <td>22</td>\n",
       "      <td>2.79</td>\n",
       "      <td>51.83</td>\n",
       "      <td>2021-10-27</td>\n",
       "    </tr>\n",
       "    <tr>\n",
       "      <th>2021-10-27 11:14:46</th>\n",
       "      <td>22</td>\n",
       "      <td>3.62</td>\n",
       "      <td>42.20</td>\n",
       "      <td>2021-10-27</td>\n",
       "    </tr>\n",
       "    <tr>\n",
       "      <th>2021-10-27 11:14:51</th>\n",
       "      <td>22</td>\n",
       "      <td>3.40</td>\n",
       "      <td>41.88</td>\n",
       "      <td>2021-10-27</td>\n",
       "    </tr>\n",
       "    <tr>\n",
       "      <th>2021-10-27 11:14:56</th>\n",
       "      <td>22</td>\n",
       "      <td>3.59</td>\n",
       "      <td>40.62</td>\n",
       "      <td>2021-10-27</td>\n",
       "    </tr>\n",
       "    <tr>\n",
       "      <th>2021-10-27 11:15:01</th>\n",
       "      <td>22</td>\n",
       "      <td>3.82</td>\n",
       "      <td>42.08</td>\n",
       "      <td>2021-10-27</td>\n",
       "    </tr>\n",
       "  </tbody>\n",
       "</table>\n",
       "<p>50094 rows × 4 columns</p>\n",
       "</div>"
      ],
      "text/plain": [
       "                     LoT    pH   Temp       DTime\n",
       "Time                                             \n",
       "2021-09-06 09:01:18    1  1.02  47.18  2021-09-06\n",
       "2021-09-06 09:01:23    1  1.05  47.34  2021-09-06\n",
       "2021-09-06 09:01:28    1  1.09  48.45  2021-09-06\n",
       "2021-09-06 09:01:33    1  1.12  48.46  2021-09-06\n",
       "2021-09-06 09:01:38    1  1.15  48.47  2021-09-06\n",
       "...                  ...   ...    ...         ...\n",
       "2021-10-27 11:14:41   22  2.79  51.83  2021-10-27\n",
       "2021-10-27 11:14:46   22  3.62  42.20  2021-10-27\n",
       "2021-10-27 11:14:51   22  3.40  41.88  2021-10-27\n",
       "2021-10-27 11:14:56   22  3.59  40.62  2021-10-27\n",
       "2021-10-27 11:15:01   22  3.82  42.08  2021-10-27\n",
       "\n",
       "[50094 rows x 4 columns]"
      ]
     },
     "execution_count": 9,
     "metadata": {},
     "output_type": "execute_result"
    }
   ],
   "source": [
    "# Time 컬럼을 인덱스로 지정\n",
    "dd = dd.set_index('Time')\n",
    "dd"
   ]
  },
  {
   "cell_type": "markdown",
   "id": "ec510a91-8d00-47cd-b499-a9ec16e4c9ce",
   "metadata": {},
   "source": [
    "### 제조데이터 사본 생성"
   ]
  },
  {
   "cell_type": "code",
   "execution_count": 10,
   "id": "fab800a3",
   "metadata": {
    "tags": []
   },
   "outputs": [
    {
     "data": {
      "text/html": [
       "<div>\n",
       "<style scoped>\n",
       "    .dataframe tbody tr th:only-of-type {\n",
       "        vertical-align: middle;\n",
       "    }\n",
       "\n",
       "    .dataframe tbody tr th {\n",
       "        vertical-align: top;\n",
       "    }\n",
       "\n",
       "    .dataframe thead th {\n",
       "        text-align: right;\n",
       "    }\n",
       "</style>\n",
       "<table border=\"1\" class=\"dataframe\">\n",
       "  <thead>\n",
       "    <tr style=\"text-align: right;\">\n",
       "      <th></th>\n",
       "      <th>LoT</th>\n",
       "      <th>pH</th>\n",
       "      <th>Temp</th>\n",
       "      <th>DTime</th>\n",
       "    </tr>\n",
       "    <tr>\n",
       "      <th>Time</th>\n",
       "      <th></th>\n",
       "      <th></th>\n",
       "      <th></th>\n",
       "      <th></th>\n",
       "    </tr>\n",
       "  </thead>\n",
       "  <tbody>\n",
       "    <tr>\n",
       "      <th>2021-09-06 09:01:18</th>\n",
       "      <td>1</td>\n",
       "      <td>1.02</td>\n",
       "      <td>47.18</td>\n",
       "      <td>2021-09-06</td>\n",
       "    </tr>\n",
       "    <tr>\n",
       "      <th>2021-09-06 09:01:23</th>\n",
       "      <td>1</td>\n",
       "      <td>1.05</td>\n",
       "      <td>47.34</td>\n",
       "      <td>2021-09-06</td>\n",
       "    </tr>\n",
       "    <tr>\n",
       "      <th>2021-09-06 09:01:28</th>\n",
       "      <td>1</td>\n",
       "      <td>1.09</td>\n",
       "      <td>48.45</td>\n",
       "      <td>2021-09-06</td>\n",
       "    </tr>\n",
       "    <tr>\n",
       "      <th>2021-09-06 09:01:33</th>\n",
       "      <td>1</td>\n",
       "      <td>1.12</td>\n",
       "      <td>48.46</td>\n",
       "      <td>2021-09-06</td>\n",
       "    </tr>\n",
       "    <tr>\n",
       "      <th>2021-09-06 09:01:38</th>\n",
       "      <td>1</td>\n",
       "      <td>1.15</td>\n",
       "      <td>48.47</td>\n",
       "      <td>2021-09-06</td>\n",
       "    </tr>\n",
       "    <tr>\n",
       "      <th>...</th>\n",
       "      <td>...</td>\n",
       "      <td>...</td>\n",
       "      <td>...</td>\n",
       "      <td>...</td>\n",
       "    </tr>\n",
       "    <tr>\n",
       "      <th>2021-10-27 11:14:41</th>\n",
       "      <td>22</td>\n",
       "      <td>2.79</td>\n",
       "      <td>51.83</td>\n",
       "      <td>2021-10-27</td>\n",
       "    </tr>\n",
       "    <tr>\n",
       "      <th>2021-10-27 11:14:46</th>\n",
       "      <td>22</td>\n",
       "      <td>3.62</td>\n",
       "      <td>42.20</td>\n",
       "      <td>2021-10-27</td>\n",
       "    </tr>\n",
       "    <tr>\n",
       "      <th>2021-10-27 11:14:51</th>\n",
       "      <td>22</td>\n",
       "      <td>3.40</td>\n",
       "      <td>41.88</td>\n",
       "      <td>2021-10-27</td>\n",
       "    </tr>\n",
       "    <tr>\n",
       "      <th>2021-10-27 11:14:56</th>\n",
       "      <td>22</td>\n",
       "      <td>3.59</td>\n",
       "      <td>40.62</td>\n",
       "      <td>2021-10-27</td>\n",
       "    </tr>\n",
       "    <tr>\n",
       "      <th>2021-10-27 11:15:01</th>\n",
       "      <td>22</td>\n",
       "      <td>3.82</td>\n",
       "      <td>42.08</td>\n",
       "      <td>2021-10-27</td>\n",
       "    </tr>\n",
       "  </tbody>\n",
       "</table>\n",
       "<p>50094 rows × 4 columns</p>\n",
       "</div>"
      ],
      "text/plain": [
       "                     LoT    pH   Temp       DTime\n",
       "Time                                             \n",
       "2021-09-06 09:01:18    1  1.02  47.18  2021-09-06\n",
       "2021-09-06 09:01:23    1  1.05  47.34  2021-09-06\n",
       "2021-09-06 09:01:28    1  1.09  48.45  2021-09-06\n",
       "2021-09-06 09:01:33    1  1.12  48.46  2021-09-06\n",
       "2021-09-06 09:01:38    1  1.15  48.47  2021-09-06\n",
       "...                  ...   ...    ...         ...\n",
       "2021-10-27 11:14:41   22  2.79  51.83  2021-10-27\n",
       "2021-10-27 11:14:46   22  3.62  42.20  2021-10-27\n",
       "2021-10-27 11:14:51   22  3.40  41.88  2021-10-27\n",
       "2021-10-27 11:14:56   22  3.59  40.62  2021-10-27\n",
       "2021-10-27 11:15:01   22  3.82  42.08  2021-10-27\n",
       "\n",
       "[50094 rows x 4 columns]"
      ]
     },
     "execution_count": 10,
     "metadata": {},
     "output_type": "execute_result"
    }
   ],
   "source": [
    "# dedicated_data라는 이름으로 제조데이터 사본 만듦\n",
    "dedicated_data = dd.copy()\n",
    "dedicated_data"
   ]
  },
  {
   "cell_type": "markdown",
   "id": "f244a57a-f299-49f6-bc32-f278817da5ea",
   "metadata": {},
   "source": [
    "### 제조데이터 프레임 요약"
   ]
  },
  {
   "cell_type": "code",
   "execution_count": 11,
   "id": "f9db7ed4",
   "metadata": {
    "tags": []
   },
   "outputs": [
    {
     "data": {
      "text/html": [
       "<div>\n",
       "<style scoped>\n",
       "    .dataframe tbody tr th:only-of-type {\n",
       "        vertical-align: middle;\n",
       "    }\n",
       "\n",
       "    .dataframe tbody tr th {\n",
       "        vertical-align: top;\n",
       "    }\n",
       "\n",
       "    .dataframe thead th {\n",
       "        text-align: right;\n",
       "    }\n",
       "</style>\n",
       "<table border=\"1\" class=\"dataframe\">\n",
       "  <thead>\n",
       "    <tr style=\"text-align: right;\">\n",
       "      <th></th>\n",
       "      <th>LoT</th>\n",
       "      <th>pH</th>\n",
       "      <th>Temp</th>\n",
       "    </tr>\n",
       "  </thead>\n",
       "  <tbody>\n",
       "    <tr>\n",
       "      <th>count</th>\n",
       "      <td>50094.000000</td>\n",
       "      <td>50094.000000</td>\n",
       "      <td>50094.000000</td>\n",
       "    </tr>\n",
       "    <tr>\n",
       "      <th>mean</th>\n",
       "      <td>11.500000</td>\n",
       "      <td>2.006488</td>\n",
       "      <td>49.876127</td>\n",
       "    </tr>\n",
       "    <tr>\n",
       "      <th>std</th>\n",
       "      <td>6.344352</td>\n",
       "      <td>0.551698</td>\n",
       "      <td>1.345322</td>\n",
       "    </tr>\n",
       "    <tr>\n",
       "      <th>min</th>\n",
       "      <td>1.000000</td>\n",
       "      <td>1.010000</td>\n",
       "      <td>38.020000</td>\n",
       "    </tr>\n",
       "    <tr>\n",
       "      <th>25%</th>\n",
       "      <td>6.000000</td>\n",
       "      <td>1.560000</td>\n",
       "      <td>49.280000</td>\n",
       "    </tr>\n",
       "    <tr>\n",
       "      <th>50%</th>\n",
       "      <td>11.500000</td>\n",
       "      <td>2.000000</td>\n",
       "      <td>49.970000</td>\n",
       "    </tr>\n",
       "    <tr>\n",
       "      <th>75%</th>\n",
       "      <td>17.000000</td>\n",
       "      <td>2.440000</td>\n",
       "      <td>50.630000</td>\n",
       "    </tr>\n",
       "    <tr>\n",
       "      <th>max</th>\n",
       "      <td>22.000000</td>\n",
       "      <td>3.990000</td>\n",
       "      <td>54.190000</td>\n",
       "    </tr>\n",
       "  </tbody>\n",
       "</table>\n",
       "</div>"
      ],
      "text/plain": [
       "                LoT            pH          Temp\n",
       "count  50094.000000  50094.000000  50094.000000\n",
       "mean      11.500000      2.006488     49.876127\n",
       "std        6.344352      0.551698      1.345322\n",
       "min        1.000000      1.010000     38.020000\n",
       "25%        6.000000      1.560000     49.280000\n",
       "50%       11.500000      2.000000     49.970000\n",
       "75%       17.000000      2.440000     50.630000\n",
       "max       22.000000      3.990000     54.190000"
      ]
     },
     "execution_count": 11,
     "metadata": {},
     "output_type": "execute_result"
    }
   ],
   "source": [
    "# 제조데이터의 정보 확인 \n",
    "dedicated_data.describe()"
   ]
  },
  {
   "cell_type": "markdown",
   "id": "2522fa0d-e588-49af-b41b-04226e7567d0",
   "metadata": {},
   "source": [
    "### 제조데이터 프레임 컬럼 확인"
   ]
  },
  {
   "cell_type": "code",
   "execution_count": 12,
   "id": "aa0892c9",
   "metadata": {
    "tags": []
   },
   "outputs": [
    {
     "data": {
      "text/plain": [
       "Index(['LoT', 'pH', 'Temp', 'DTime'], dtype='object')"
      ]
     },
     "execution_count": 12,
     "metadata": {},
     "output_type": "execute_result"
    }
   ],
   "source": [
    "# 제조데이터의 컬럼 이름 확인\n",
    "dedicated_data.columns"
   ]
  },
  {
   "cell_type": "markdown",
   "id": "96ef0b6c-ce98-4c18-a07c-37b17ab85084",
   "metadata": {},
   "source": [
    "### 제조데이터 프레임 타입, 개수 확인"
   ]
  },
  {
   "cell_type": "code",
   "execution_count": 13,
   "id": "cfd4e1a1",
   "metadata": {
    "tags": []
   },
   "outputs": [
    {
     "name": "stdout",
     "output_type": "stream",
     "text": [
      "<class 'pandas.core.frame.DataFrame'>\n",
      "DatetimeIndex: 50094 entries, 2021-09-06 09:01:18 to 2021-10-27 11:15:01\n",
      "Data columns (total 4 columns):\n",
      " #   Column  Non-Null Count  Dtype  \n",
      "---  ------  --------------  -----  \n",
      " 0   LoT     50094 non-null  int64  \n",
      " 1   pH      50094 non-null  float64\n",
      " 2   Temp    50094 non-null  float64\n",
      " 3   DTime   50094 non-null  object \n",
      "dtypes: float64(2), int64(1), object(1)\n",
      "memory usage: 1.9+ MB\n"
     ]
    }
   ],
   "source": [
    "# 각 컬럼별 제조데이터 타입 확인\n",
    "dedicated_data.info()"
   ]
  },
  {
   "cell_type": "markdown",
   "id": "8c1f6f02-34b6-4ff2-9113-4795f1f13715",
   "metadata": {},
   "source": [
    "### 제조데이터 프레임 형태 확인"
   ]
  },
  {
   "cell_type": "code",
   "execution_count": 14,
   "id": "f14fb221",
   "metadata": {
    "tags": []
   },
   "outputs": [
    {
     "data": {
      "text/plain": [
       "(50094, 4)"
      ]
     },
     "execution_count": 14,
     "metadata": {},
     "output_type": "execute_result"
    }
   ],
   "source": [
    "# 행 50094, 열 4개의 구성임을 확인\n",
    "dedicated_data.shape"
   ]
  },
  {
   "cell_type": "markdown",
   "id": "71d5ca00-6b64-4f03-a1fe-f6ebd5597990",
   "metadata": {},
   "source": [
    "### 제조데이터 프레임 내 결측치 개수 확인"
   ]
  },
  {
   "cell_type": "code",
   "execution_count": 15,
   "id": "65001cad",
   "metadata": {
    "tags": []
   },
   "outputs": [
    {
     "data": {
      "text/plain": [
       "LoT      0\n",
       "pH       0\n",
       "Temp     0\n",
       "DTime    0\n",
       "dtype: int64"
      ]
     },
     "execution_count": 15,
     "metadata": {},
     "output_type": "execute_result"
    }
   ],
   "source": [
    "# 제조데이터 프레임에 0값이 없음을 확인\n",
    "dedicated_data.isna().sum()"
   ]
  },
  {
   "cell_type": "markdown",
   "id": "c5ff2d73-8f26-4a90-b887-d7a1fd548809",
   "metadata": {},
   "source": [
    "### 제조데이터 컬럼 별 히스토그램 확인"
   ]
  },
  {
   "cell_type": "code",
   "execution_count": 16,
   "id": "bea08da5",
   "metadata": {
    "tags": []
   },
   "outputs": [
    {
     "data": {
      "text/plain": [
       "array([[<Axes: title={'center': 'LoT'}>, <Axes: title={'center': 'pH'}>],\n",
       "       [<Axes: title={'center': 'Temp'}>, <Axes: >]], dtype=object)"
      ]
     },
     "execution_count": 16,
     "metadata": {},
     "output_type": "execute_result"
    },
    {
     "data": {
      "image/png": "[encoded data removed]",
      "text/plain": [
       "<Figure size 1000x1000 with 4 Axes>"
      ]
     },
     "metadata": {},
     "output_type": "display_data"
    }
   ],
   "source": [
    "# 히스토그램으로 컬럼별 제조데이터 시각화\n",
    "dedicated_data.hist(figsize=(10,10))"
   ]
  },
  {
   "cell_type": "markdown",
   "id": "31075d26-9187-488c-9699-eaa671057ca9",
   "metadata": {},
   "source": [
    "### 제조데이터 프레임 내 결측치 행 제거"
   ]
  },
  {
   "cell_type": "code",
   "execution_count": 17,
   "id": "81e69693",
   "metadata": {
    "tags": []
   },
   "outputs": [
    {
     "data": {
      "text/html": [
       "<div>\n",
       "<style scoped>\n",
       "    .dataframe tbody tr th:only-of-type {\n",
       "        vertical-align: middle;\n",
       "    }\n",
       "\n",
       "    .dataframe tbody tr th {\n",
       "        vertical-align: top;\n",
       "    }\n",
       "\n",
       "    .dataframe thead th {\n",
       "        text-align: right;\n",
       "    }\n",
       "</style>\n",
       "<table border=\"1\" class=\"dataframe\">\n",
       "  <thead>\n",
       "    <tr style=\"text-align: right;\">\n",
       "      <th></th>\n",
       "      <th>LoT</th>\n",
       "      <th>pH</th>\n",
       "      <th>Temp</th>\n",
       "      <th>DTime</th>\n",
       "    </tr>\n",
       "    <tr>\n",
       "      <th>Time</th>\n",
       "      <th></th>\n",
       "      <th></th>\n",
       "      <th></th>\n",
       "      <th></th>\n",
       "    </tr>\n",
       "  </thead>\n",
       "  <tbody>\n",
       "    <tr>\n",
       "      <th>2021-09-06 09:01:18</th>\n",
       "      <td>1</td>\n",
       "      <td>1.02</td>\n",
       "      <td>47.18</td>\n",
       "      <td>2021-09-06</td>\n",
       "    </tr>\n",
       "    <tr>\n",
       "      <th>2021-09-06 09:01:23</th>\n",
       "      <td>1</td>\n",
       "      <td>1.05</td>\n",
       "      <td>47.34</td>\n",
       "      <td>2021-09-06</td>\n",
       "    </tr>\n",
       "    <tr>\n",
       "      <th>2021-09-06 09:01:28</th>\n",
       "      <td>1</td>\n",
       "      <td>1.09</td>\n",
       "      <td>48.45</td>\n",
       "      <td>2021-09-06</td>\n",
       "    </tr>\n",
       "    <tr>\n",
       "      <th>2021-09-06 09:01:33</th>\n",
       "      <td>1</td>\n",
       "      <td>1.12</td>\n",
       "      <td>48.46</td>\n",
       "      <td>2021-09-06</td>\n",
       "    </tr>\n",
       "    <tr>\n",
       "      <th>2021-09-06 09:01:38</th>\n",
       "      <td>1</td>\n",
       "      <td>1.15</td>\n",
       "      <td>48.47</td>\n",
       "      <td>2021-09-06</td>\n",
       "    </tr>\n",
       "    <tr>\n",
       "      <th>...</th>\n",
       "      <td>...</td>\n",
       "      <td>...</td>\n",
       "      <td>...</td>\n",
       "      <td>...</td>\n",
       "    </tr>\n",
       "    <tr>\n",
       "      <th>2021-10-27 11:14:41</th>\n",
       "      <td>22</td>\n",
       "      <td>2.79</td>\n",
       "      <td>51.83</td>\n",
       "      <td>2021-10-27</td>\n",
       "    </tr>\n",
       "    <tr>\n",
       "      <th>2021-10-27 11:14:46</th>\n",
       "      <td>22</td>\n",
       "      <td>3.62</td>\n",
       "      <td>42.20</td>\n",
       "      <td>2021-10-27</td>\n",
       "    </tr>\n",
       "    <tr>\n",
       "      <th>2021-10-27 11:14:51</th>\n",
       "      <td>22</td>\n",
       "      <td>3.40</td>\n",
       "      <td>41.88</td>\n",
       "      <td>2021-10-27</td>\n",
       "    </tr>\n",
       "    <tr>\n",
       "      <th>2021-10-27 11:14:56</th>\n",
       "      <td>22</td>\n",
       "      <td>3.59</td>\n",
       "      <td>40.62</td>\n",
       "      <td>2021-10-27</td>\n",
       "    </tr>\n",
       "    <tr>\n",
       "      <th>2021-10-27 11:15:01</th>\n",
       "      <td>22</td>\n",
       "      <td>3.82</td>\n",
       "      <td>42.08</td>\n",
       "      <td>2021-10-27</td>\n",
       "    </tr>\n",
       "  </tbody>\n",
       "</table>\n",
       "<p>50094 rows × 4 columns</p>\n",
       "</div>"
      ],
      "text/plain": [
       "                     LoT    pH   Temp       DTime\n",
       "Time                                             \n",
       "2021-09-06 09:01:18    1  1.02  47.18  2021-09-06\n",
       "2021-09-06 09:01:23    1  1.05  47.34  2021-09-06\n",
       "2021-09-06 09:01:28    1  1.09  48.45  2021-09-06\n",
       "2021-09-06 09:01:33    1  1.12  48.46  2021-09-06\n",
       "2021-09-06 09:01:38    1  1.15  48.47  2021-09-06\n",
       "...                  ...   ...    ...         ...\n",
       "2021-10-27 11:14:41   22  2.79  51.83  2021-10-27\n",
       "2021-10-27 11:14:46   22  3.62  42.20  2021-10-27\n",
       "2021-10-27 11:14:51   22  3.40  41.88  2021-10-27\n",
       "2021-10-27 11:14:56   22  3.59  40.62  2021-10-27\n",
       "2021-10-27 11:15:01   22  3.82  42.08  2021-10-27\n",
       "\n",
       "[50094 rows x 4 columns]"
      ]
     },
     "execution_count": 17,
     "metadata": {},
     "output_type": "execute_result"
    }
   ],
   "source": [
    "# 제조데이터에서 공백 제거\n",
    "dedicated_data = dedicated_data.dropna()\n",
    "dedicated_data"
   ]
  },
  {
   "cell_type": "markdown",
   "id": "9dad5c62-6943-46d7-91a1-1e01b4a574eb",
   "metadata": {},
   "source": [
    "### 중복이 없는 Lot 번호 리스트 추출"
   ]
  },
  {
   "cell_type": "code",
   "execution_count": 18,
   "id": "dbf59014",
   "metadata": {
    "scrolled": true,
    "tags": []
   },
   "outputs": [
    {
     "name": "stdout",
     "output_type": "stream",
     "text": [
      "[ 1  2  3  4  5  6  7  8  9 10 11 12 13 14 15 16 17 18 19 20 21 22]\n",
      "22\n"
     ]
    }
   ],
   "source": [
    "# 제조데이터 프레임 내 LoT 번호 추출\n",
    "lot_lists = dedicated_data['LoT'].unique()\n",
    "print(lot_lists)\n",
    "print(len(lot_lists))"
   ]
  },
  {
   "cell_type": "markdown",
   "id": "740549af-913c-4f14-95f3-593dc3a72a35",
   "metadata": {},
   "source": [
    "### 중복이 없는 날짜 리스트 추출"
   ]
  },
  {
   "cell_type": "code",
   "execution_count": 19,
   "id": "6ac38d18",
   "metadata": {
    "scrolled": true,
    "tags": []
   },
   "outputs": [
    {
     "name": "stdout",
     "output_type": "stream",
     "text": [
      "['2021-09-06' '2021-09-07' '2021-09-08' '2021-09-09' '2021-09-10'\n",
      " '2021-09-13' '2021-09-14' '2021-09-15' '2021-09-16' '2021-09-17'\n",
      " '2021-09-23' '2021-09-24' '2021-09-27' '2021-09-28' '2021-09-29'\n",
      " '2021-09-30' '2021-10-01' '2021-10-05' '2021-10-06' '2021-10-07'\n",
      " '2021-10-08' '2021-10-12' '2021-10-13' '2021-10-14' '2021-10-15'\n",
      " '2021-10-18' '2021-10-19' '2021-10-20' '2021-10-21' '2021-10-22'\n",
      " '2021-10-25' '2021-10-26' '2021-10-27']\n",
      "33\n"
     ]
    }
   ],
   "source": [
    "# 제조데이터 프레임 내 날짜(연, 월, 일만) 추출\n",
    "d_lists = dedicated_data['DTime'].unique()\n",
    "print(d_lists)\n",
    "print(len(d_lists))"
   ]
  },
  {
   "cell_type": "markdown",
   "id": "6f84f807",
   "metadata": {},
   "source": [
    "# Read Process Data"
   ]
  },
  {
   "cell_type": "markdown",
   "id": "e6f62460",
   "metadata": {},
   "source": [
    "process-rate 파일을 불러와, 하나의 데이터 프레임으로 생성하고, 중복 없는 Lot 번호와 날짜 리스트를 추출해 저장했다."
   ]
  },
  {
   "cell_type": "markdown",
   "id": "6f198d1e-6e68-4389-86d0-1f4fc21180e9",
   "metadata": {},
   "source": [
    "### 결과 제조데이터 프레임 생성"
   ]
  },
  {
   "cell_type": "code",
   "execution_count": 20,
   "id": "98340276",
   "metadata": {
    "scrolled": true,
    "tags": []
   },
   "outputs": [
    {
     "data": {
      "text/html": [
       "<div>\n",
       "<style scoped>\n",
       "    .dataframe tbody tr th:only-of-type {\n",
       "        vertical-align: middle;\n",
       "    }\n",
       "\n",
       "    .dataframe tbody tr th {\n",
       "        vertical-align: top;\n",
       "    }\n",
       "\n",
       "    .dataframe thead th {\n",
       "        text-align: right;\n",
       "    }\n",
       "</style>\n",
       "<table border=\"1\" class=\"dataframe\">\n",
       "  <thead>\n",
       "    <tr style=\"text-align: right;\">\n",
       "      <th></th>\n",
       "      <th>Date</th>\n",
       "      <th>LoT</th>\n",
       "      <th>Process Rate</th>\n",
       "    </tr>\n",
       "  </thead>\n",
       "  <tbody>\n",
       "    <tr>\n",
       "      <th>0</th>\n",
       "      <td>2021-09-06</td>\n",
       "      <td>1</td>\n",
       "      <td>96.38</td>\n",
       "    </tr>\n",
       "    <tr>\n",
       "      <th>1</th>\n",
       "      <td>2021-09-06</td>\n",
       "      <td>2</td>\n",
       "      <td>97.40</td>\n",
       "    </tr>\n",
       "    <tr>\n",
       "      <th>2</th>\n",
       "      <td>2021-09-06</td>\n",
       "      <td>3</td>\n",
       "      <td>95.40</td>\n",
       "    </tr>\n",
       "    <tr>\n",
       "      <th>3</th>\n",
       "      <td>2021-09-06</td>\n",
       "      <td>4</td>\n",
       "      <td>96.35</td>\n",
       "    </tr>\n",
       "    <tr>\n",
       "      <th>4</th>\n",
       "      <td>2021-09-06</td>\n",
       "      <td>5</td>\n",
       "      <td>94.77</td>\n",
       "    </tr>\n",
       "    <tr>\n",
       "      <th>...</th>\n",
       "      <td>...</td>\n",
       "      <td>...</td>\n",
       "      <td>...</td>\n",
       "    </tr>\n",
       "    <tr>\n",
       "      <th>721</th>\n",
       "      <td>2021-10-27</td>\n",
       "      <td>18</td>\n",
       "      <td>97.29</td>\n",
       "    </tr>\n",
       "    <tr>\n",
       "      <th>722</th>\n",
       "      <td>2021-10-27</td>\n",
       "      <td>19</td>\n",
       "      <td>97.21</td>\n",
       "    </tr>\n",
       "    <tr>\n",
       "      <th>723</th>\n",
       "      <td>2021-10-27</td>\n",
       "      <td>20</td>\n",
       "      <td>98.38</td>\n",
       "    </tr>\n",
       "    <tr>\n",
       "      <th>724</th>\n",
       "      <td>2021-10-27</td>\n",
       "      <td>21</td>\n",
       "      <td>98.36</td>\n",
       "    </tr>\n",
       "    <tr>\n",
       "      <th>725</th>\n",
       "      <td>2021-10-27</td>\n",
       "      <td>22</td>\n",
       "      <td>96.03</td>\n",
       "    </tr>\n",
       "  </tbody>\n",
       "</table>\n",
       "<p>726 rows × 3 columns</p>\n",
       "</div>"
      ],
      "text/plain": [
       "           Date  LoT  Process Rate\n",
       "0    2021-09-06    1         96.38\n",
       "1    2021-09-06    2         97.40\n",
       "2    2021-09-06    3         95.40\n",
       "3    2021-09-06    4         96.35\n",
       "4    2021-09-06    5         94.77\n",
       "..          ...  ...           ...\n",
       "721  2021-10-27   18         97.29\n",
       "722  2021-10-27   19         97.21\n",
       "723  2021-10-27   20         98.38\n",
       "724  2021-10-27   21         98.36\n",
       "725  2021-10-27   22         96.03\n",
       "\n",
       "[726 rows x 3 columns]"
      ]
     },
     "execution_count": 20,
     "metadata": {},
     "output_type": "execute_result"
    }
   ],
   "source": [
    "# Process Rate 제조데이터 파일 kemp-process-rate.csv 불러오기\n",
    "process = pd.read_csv(os.path.join(root_dir, error_list), sep=',')\n",
    "process"
   ]
  },
  {
   "cell_type": "markdown",
   "id": "1b5c9596-01ea-4c4d-95e8-8ffb06ae0688",
   "metadata": {},
   "source": [
    "### 결과 제조프레임을 통해 중복이 없는 LoT 번호, 날짜 리스트 추출"
   ]
  },
  {
   "cell_type": "code",
   "execution_count": 21,
   "id": "05def9e6",
   "metadata": {
    "tags": []
   },
   "outputs": [
    {
     "name": "stdout",
     "output_type": "stream",
     "text": [
      "Unique LoT List :  [ 1  2  3  4  5  6  7  8  9 10 11 12 13 14 15 16 17 18 19 20 21 22]\n",
      "Unique Date List :  ['2021-09-06' '2021-09-07' '2021-09-08' '2021-09-09' '2021-09-10'\n",
      " '2021-09-13' '2021-09-14' '2021-09-15' '2021-09-16' '2021-09-17'\n",
      " '2021-09-23' '2021-09-24' '2021-09-27' '2021-09-28' '2021-09-29'\n",
      " '2021-09-30' '2021-10-01' '2021-10-05' '2021-10-06' '2021-10-07'\n",
      " '2021-10-08' '2021-10-12' '2021-10-13' '2021-10-14' '2021-10-15'\n",
      " '2021-10-18' '2021-10-19' '2021-10-20' '2021-10-21' '2021-10-22'\n",
      " '2021-10-25' '2021-10-26' '2021-10-27']\n"
     ]
    }
   ],
   "source": [
    "lot_process_lists = process['LoT'].unique() # LoT 번호 추출\n",
    "d_process_lists = process['Date'].unique() # 날짜 추출\n",
    "print(\"Unique LoT List : \", lot_process_lists)\n",
    "print(\"Unique Date List : \", d_process_lists)"
   ]
  },
  {
   "cell_type": "markdown",
   "id": "aad98466",
   "metadata": {},
   "source": [
    "# Make Training Data Set"
   ]
  },
  {
   "cell_type": "markdown",
   "id": "776e1ead",
   "metadata": {},
   "source": [
    "제조 데이터와 에러 제조 데이터를 이용해 train/test data를 생성했다. \\\n",
    "날짜와 Lot번호를 이용해, pH, Temp, Voltage, QC 데이터를 하나의 데이터 프레임으로 만들어 통합 제조 데이터를 구성했다. \\\n",
    "해당 통합 데이터를 8:2의 비율로 train data set과 test data set으로 나누었다."
   ]
  },
  {
   "cell_type": "markdown",
   "id": "3291b8fa-3886-49db-9aa9-b4f9745cc024",
   "metadata": {},
   "source": [
    "### 통합 제조데이터 생성을 위한 프레임 생성"
   ]
  },
  {
   "cell_type": "code",
   "execution_count": 22,
   "id": "1ea1b18e",
   "metadata": {
    "tags": []
   },
   "outputs": [],
   "source": [
    "# X_data라는 이름으로 pH, Temp, LoT, Process라는 컬럼을 가진 빈 제조데이터 프레임 형성\n",
    "X_data = pd.DataFrame(columns=['pH','Temp', 'LoT', 'Process'])"
   ]
  },
  {
   "cell_type": "markdown",
   "id": "206a3208-5b3a-46a1-afbe-67eff953cfc8",
   "metadata": {},
   "source": [
    "### 통합 제조데이터를 공정 제조데이터와 결과 제조데이터를 통해 생성"
   ]
  },
  {
   "cell_type": "code",
   "execution_count": 26,
   "id": "d3258984",
   "metadata": {
    "tags": []
   },
   "outputs": [],
   "source": [
    "# 날짜와 LoT 번호를 대조하여 pH, Temp 제조데이터와 Process Rate 제조데이터를 하나의 테이블로 합병\n",
    "for d in d_lists:\n",
    "    for lot in lot_lists:\n",
    "        tmp = dedicated_data[(dedicated_data['DTime']==d)&(dedicated_data['LoT']==lot)]\n",
    "        tmp = tmp[['pH', 'Temp', 'LoT']]\n",
    "        process_val = process[(process['Date']==d)&((process['LoT']==lot))]['Process Rate'].values\n",
    "        trr = np.full((tmp['pH'].shape), process_val)\n",
    "        tmp['Process'] = trr\n",
    "        X_data = pd.concat([X_data, tmp])\n",
    "X_data=X_data.apply(pd.to_numeric)\n",
    "X_data = X_data[['LoT', 'pH', 'Temp', 'Process']]"
   ]
  },
  {
   "cell_type": "markdown",
   "id": "ee3ea0be-1e8f-4ed9-b444-5599eb5c4c5d",
   "metadata": {},
   "source": [
    "### 생성된 통합 제조데이터 확인"
   ]
  },
  {
   "cell_type": "code",
   "execution_count": 27,
   "id": "09ea4308",
   "metadata": {
    "tags": []
   },
   "outputs": [
    {
     "data": {
      "text/html": [
       "<div>\n",
       "<style scoped>\n",
       "    .dataframe tbody tr th:only-of-type {\n",
       "        vertical-align: middle;\n",
       "    }\n",
       "\n",
       "    .dataframe tbody tr th {\n",
       "        vertical-align: top;\n",
       "    }\n",
       "\n",
       "    .dataframe thead th {\n",
       "        text-align: right;\n",
       "    }\n",
       "</style>\n",
       "<table border=\"1\" class=\"dataframe\">\n",
       "  <thead>\n",
       "    <tr style=\"text-align: right;\">\n",
       "      <th></th>\n",
       "      <th>LoT</th>\n",
       "      <th>pH</th>\n",
       "      <th>Temp</th>\n",
       "      <th>Process</th>\n",
       "    </tr>\n",
       "  </thead>\n",
       "  <tbody>\n",
       "    <tr>\n",
       "      <th>2021-09-06 09:01:18</th>\n",
       "      <td>1</td>\n",
       "      <td>1.02</td>\n",
       "      <td>47.18</td>\n",
       "      <td>96.38</td>\n",
       "    </tr>\n",
       "    <tr>\n",
       "      <th>2021-09-06 09:01:23</th>\n",
       "      <td>1</td>\n",
       "      <td>1.05</td>\n",
       "      <td>47.34</td>\n",
       "      <td>96.38</td>\n",
       "    </tr>\n",
       "    <tr>\n",
       "      <th>2021-09-06 09:01:28</th>\n",
       "      <td>1</td>\n",
       "      <td>1.09</td>\n",
       "      <td>48.45</td>\n",
       "      <td>96.38</td>\n",
       "    </tr>\n",
       "    <tr>\n",
       "      <th>2021-09-06 09:01:33</th>\n",
       "      <td>1</td>\n",
       "      <td>1.12</td>\n",
       "      <td>48.46</td>\n",
       "      <td>96.38</td>\n",
       "    </tr>\n",
       "    <tr>\n",
       "      <th>2021-09-06 09:01:38</th>\n",
       "      <td>1</td>\n",
       "      <td>1.15</td>\n",
       "      <td>48.47</td>\n",
       "      <td>96.38</td>\n",
       "    </tr>\n",
       "    <tr>\n",
       "      <th>...</th>\n",
       "      <td>...</td>\n",
       "      <td>...</td>\n",
       "      <td>...</td>\n",
       "      <td>...</td>\n",
       "    </tr>\n",
       "    <tr>\n",
       "      <th>2021-10-27 11:14:41</th>\n",
       "      <td>22</td>\n",
       "      <td>2.79</td>\n",
       "      <td>51.83</td>\n",
       "      <td>96.03</td>\n",
       "    </tr>\n",
       "    <tr>\n",
       "      <th>2021-10-27 11:14:46</th>\n",
       "      <td>22</td>\n",
       "      <td>3.62</td>\n",
       "      <td>42.20</td>\n",
       "      <td>96.03</td>\n",
       "    </tr>\n",
       "    <tr>\n",
       "      <th>2021-10-27 11:14:51</th>\n",
       "      <td>22</td>\n",
       "      <td>3.40</td>\n",
       "      <td>41.88</td>\n",
       "      <td>96.03</td>\n",
       "    </tr>\n",
       "    <tr>\n",
       "      <th>2021-10-27 11:14:56</th>\n",
       "      <td>22</td>\n",
       "      <td>3.59</td>\n",
       "      <td>40.62</td>\n",
       "      <td>96.03</td>\n",
       "    </tr>\n",
       "    <tr>\n",
       "      <th>2021-10-27 11:15:01</th>\n",
       "      <td>22</td>\n",
       "      <td>3.82</td>\n",
       "      <td>42.08</td>\n",
       "      <td>96.03</td>\n",
       "    </tr>\n",
       "  </tbody>\n",
       "</table>\n",
       "<p>50094 rows × 4 columns</p>\n",
       "</div>"
      ],
      "text/plain": [
       "                     LoT    pH   Temp  Process\n",
       "2021-09-06 09:01:18    1  1.02  47.18    96.38\n",
       "2021-09-06 09:01:23    1  1.05  47.34    96.38\n",
       "2021-09-06 09:01:28    1  1.09  48.45    96.38\n",
       "2021-09-06 09:01:33    1  1.12  48.46    96.38\n",
       "2021-09-06 09:01:38    1  1.15  48.47    96.38\n",
       "...                  ...   ...    ...      ...\n",
       "2021-10-27 11:14:41   22  2.79  51.83    96.03\n",
       "2021-10-27 11:14:46   22  3.62  42.20    96.03\n",
       "2021-10-27 11:14:51   22  3.40  41.88    96.03\n",
       "2021-10-27 11:14:56   22  3.59  40.62    96.03\n",
       "2021-10-27 11:15:01   22  3.82  42.08    96.03\n",
       "\n",
       "[50094 rows x 4 columns]"
      ]
     },
     "execution_count": 27,
     "metadata": {},
     "output_type": "execute_result"
    }
   ],
   "source": [
    "X_data # 데이터 확인"
   ]
  },
  {
   "cell_type": "markdown",
   "id": "eecd1591-e9c8-46bb-99dc-e9b18ac02fa7",
   "metadata": {},
   "source": [
    "### 통합 제조데이터 프레임 요약"
   ]
  },
  {
   "cell_type": "code",
   "execution_count": 28,
   "id": "86b4b424",
   "metadata": {
    "tags": []
   },
   "outputs": [
    {
     "data": {
      "text/html": [
       "<div>\n",
       "<style scoped>\n",
       "    .dataframe tbody tr th:only-of-type {\n",
       "        vertical-align: middle;\n",
       "    }\n",
       "\n",
       "    .dataframe tbody tr th {\n",
       "        vertical-align: top;\n",
       "    }\n",
       "\n",
       "    .dataframe thead th {\n",
       "        text-align: right;\n",
       "    }\n",
       "</style>\n",
       "<table border=\"1\" class=\"dataframe\">\n",
       "  <thead>\n",
       "    <tr style=\"text-align: right;\">\n",
       "      <th></th>\n",
       "      <th>LoT</th>\n",
       "      <th>pH</th>\n",
       "      <th>Temp</th>\n",
       "      <th>Process</th>\n",
       "    </tr>\n",
       "  </thead>\n",
       "  <tbody>\n",
       "    <tr>\n",
       "      <th>count</th>\n",
       "      <td>50094.000000</td>\n",
       "      <td>50094.000000</td>\n",
       "      <td>50094.000000</td>\n",
       "      <td>50094.000000</td>\n",
       "    </tr>\n",
       "    <tr>\n",
       "      <th>mean</th>\n",
       "      <td>11.500000</td>\n",
       "      <td>2.006488</td>\n",
       "      <td>49.876127</td>\n",
       "      <td>96.064229</td>\n",
       "    </tr>\n",
       "    <tr>\n",
       "      <th>std</th>\n",
       "      <td>6.344352</td>\n",
       "      <td>0.551698</td>\n",
       "      <td>1.345322</td>\n",
       "      <td>3.210621</td>\n",
       "    </tr>\n",
       "    <tr>\n",
       "      <th>min</th>\n",
       "      <td>1.000000</td>\n",
       "      <td>1.010000</td>\n",
       "      <td>38.020000</td>\n",
       "      <td>80.780000</td>\n",
       "    </tr>\n",
       "    <tr>\n",
       "      <th>25%</th>\n",
       "      <td>6.000000</td>\n",
       "      <td>1.560000</td>\n",
       "      <td>49.280000</td>\n",
       "      <td>96.170000</td>\n",
       "    </tr>\n",
       "    <tr>\n",
       "      <th>50%</th>\n",
       "      <td>11.500000</td>\n",
       "      <td>2.000000</td>\n",
       "      <td>49.970000</td>\n",
       "      <td>96.635000</td>\n",
       "    </tr>\n",
       "    <tr>\n",
       "      <th>75%</th>\n",
       "      <td>17.000000</td>\n",
       "      <td>2.440000</td>\n",
       "      <td>50.630000</td>\n",
       "      <td>97.260000</td>\n",
       "    </tr>\n",
       "    <tr>\n",
       "      <th>max</th>\n",
       "      <td>22.000000</td>\n",
       "      <td>3.990000</td>\n",
       "      <td>54.190000</td>\n",
       "      <td>98.450000</td>\n",
       "    </tr>\n",
       "  </tbody>\n",
       "</table>\n",
       "</div>"
      ],
      "text/plain": [
       "                LoT            pH          Temp       Process\n",
       "count  50094.000000  50094.000000  50094.000000  50094.000000\n",
       "mean      11.500000      2.006488     49.876127     96.064229\n",
       "std        6.344352      0.551698      1.345322      3.210621\n",
       "min        1.000000      1.010000     38.020000     80.780000\n",
       "25%        6.000000      1.560000     49.280000     96.170000\n",
       "50%       11.500000      2.000000     49.970000     96.635000\n",
       "75%       17.000000      2.440000     50.630000     97.260000\n",
       "max       22.000000      3.990000     54.190000     98.450000"
      ]
     },
     "execution_count": 28,
     "metadata": {},
     "output_type": "execute_result"
    }
   ],
   "source": [
    "# 데이터 프레임 정보 확인\n",
    "X_data.describe()"
   ]
  },
  {
   "cell_type": "markdown",
   "id": "c65b5297-1185-4350-84b0-e79a5f6c43da",
   "metadata": {},
   "source": [
    "### 통합 제조데이터를 학습용 제조데이터와 테스트용 제조데이터로 분리"
   ]
  },
  {
   "cell_type": "code",
   "execution_count": 29,
   "id": "d1484295",
   "metadata": {
    "tags": []
   },
   "outputs": [],
   "source": [
    "# 학습을 위해 데이터를 8:2 비율로 train_data와 test_data로 나눔\n",
    "train_data, test_data = train_test_split(X_data, test_size=0.2)"
   ]
  },
  {
   "cell_type": "markdown",
   "id": "3d13f359-e7a2-46e1-ae77-c9d31df5f81a",
   "metadata": {},
   "source": [
    "### 학습용 제조데이터 프레임 요약"
   ]
  },
  {
   "cell_type": "code",
   "execution_count": 30,
   "id": "78ddc9f3",
   "metadata": {
    "tags": []
   },
   "outputs": [
    {
     "data": {
      "text/html": [
       "<div>\n",
       "<style scoped>\n",
       "    .dataframe tbody tr th:only-of-type {\n",
       "        vertical-align: middle;\n",
       "    }\n",
       "\n",
       "    .dataframe tbody tr th {\n",
       "        vertical-align: top;\n",
       "    }\n",
       "\n",
       "    .dataframe thead th {\n",
       "        text-align: right;\n",
       "    }\n",
       "</style>\n",
       "<table border=\"1\" class=\"dataframe\">\n",
       "  <thead>\n",
       "    <tr style=\"text-align: right;\">\n",
       "      <th></th>\n",
       "      <th>LoT</th>\n",
       "      <th>pH</th>\n",
       "      <th>Temp</th>\n",
       "      <th>Process</th>\n",
       "    </tr>\n",
       "  </thead>\n",
       "  <tbody>\n",
       "    <tr>\n",
       "      <th>count</th>\n",
       "      <td>40075.000000</td>\n",
       "      <td>40075.000000</td>\n",
       "      <td>40075.000000</td>\n",
       "      <td>40075.000000</td>\n",
       "    </tr>\n",
       "    <tr>\n",
       "      <th>mean</th>\n",
       "      <td>11.501061</td>\n",
       "      <td>2.008506</td>\n",
       "      <td>49.879955</td>\n",
       "      <td>96.065518</td>\n",
       "    </tr>\n",
       "    <tr>\n",
       "      <th>std</th>\n",
       "      <td>6.338934</td>\n",
       "      <td>0.551256</td>\n",
       "      <td>1.341723</td>\n",
       "      <td>3.207939</td>\n",
       "    </tr>\n",
       "    <tr>\n",
       "      <th>min</th>\n",
       "      <td>1.000000</td>\n",
       "      <td>1.010000</td>\n",
       "      <td>38.020000</td>\n",
       "      <td>80.780000</td>\n",
       "    </tr>\n",
       "    <tr>\n",
       "      <th>25%</th>\n",
       "      <td>6.000000</td>\n",
       "      <td>1.560000</td>\n",
       "      <td>49.280000</td>\n",
       "      <td>96.170000</td>\n",
       "    </tr>\n",
       "    <tr>\n",
       "      <th>50%</th>\n",
       "      <td>11.000000</td>\n",
       "      <td>2.000000</td>\n",
       "      <td>49.970000</td>\n",
       "      <td>96.640000</td>\n",
       "    </tr>\n",
       "    <tr>\n",
       "      <th>75%</th>\n",
       "      <td>17.000000</td>\n",
       "      <td>2.440000</td>\n",
       "      <td>50.640000</td>\n",
       "      <td>97.260000</td>\n",
       "    </tr>\n",
       "    <tr>\n",
       "      <th>max</th>\n",
       "      <td>22.000000</td>\n",
       "      <td>3.990000</td>\n",
       "      <td>54.190000</td>\n",
       "      <td>98.450000</td>\n",
       "    </tr>\n",
       "  </tbody>\n",
       "</table>\n",
       "</div>"
      ],
      "text/plain": [
       "                LoT            pH          Temp       Process\n",
       "count  40075.000000  40075.000000  40075.000000  40075.000000\n",
       "mean      11.501061      2.008506     49.879955     96.065518\n",
       "std        6.338934      0.551256      1.341723      3.207939\n",
       "min        1.000000      1.010000     38.020000     80.780000\n",
       "25%        6.000000      1.560000     49.280000     96.170000\n",
       "50%       11.000000      2.000000     49.970000     96.640000\n",
       "75%       17.000000      2.440000     50.640000     97.260000\n",
       "max       22.000000      3.990000     54.190000     98.450000"
      ]
     },
     "execution_count": 30,
     "metadata": {},
     "output_type": "execute_result"
    }
   ],
   "source": [
    "# 학습용 데이터인 train_data의 정보 확인\n",
    "train_data.describe()"
   ]
  },
  {
   "cell_type": "markdown",
   "id": "99f63fc0-32d3-43af-ac80-592e90b32394",
   "metadata": {},
   "source": [
    "### 테스트용 제조데이터 프레임 요약"
   ]
  },
  {
   "cell_type": "code",
   "execution_count": 31,
   "id": "094a22c2",
   "metadata": {
    "tags": []
   },
   "outputs": [
    {
     "data": {
      "text/html": [
       "<div>\n",
       "<style scoped>\n",
       "    .dataframe tbody tr th:only-of-type {\n",
       "        vertical-align: middle;\n",
       "    }\n",
       "\n",
       "    .dataframe tbody tr th {\n",
       "        vertical-align: top;\n",
       "    }\n",
       "\n",
       "    .dataframe thead th {\n",
       "        text-align: right;\n",
       "    }\n",
       "</style>\n",
       "<table border=\"1\" class=\"dataframe\">\n",
       "  <thead>\n",
       "    <tr style=\"text-align: right;\">\n",
       "      <th></th>\n",
       "      <th>LoT</th>\n",
       "      <th>pH</th>\n",
       "      <th>Temp</th>\n",
       "      <th>Process</th>\n",
       "    </tr>\n",
       "  </thead>\n",
       "  <tbody>\n",
       "    <tr>\n",
       "      <th>count</th>\n",
       "      <td>10019.000000</td>\n",
       "      <td>10019.000000</td>\n",
       "      <td>10019.000000</td>\n",
       "      <td>10019.000000</td>\n",
       "    </tr>\n",
       "    <tr>\n",
       "      <th>mean</th>\n",
       "      <td>11.495758</td>\n",
       "      <td>1.998418</td>\n",
       "      <td>49.860814</td>\n",
       "      <td>96.059070</td>\n",
       "    </tr>\n",
       "    <tr>\n",
       "      <th>std</th>\n",
       "      <td>6.366294</td>\n",
       "      <td>0.553415</td>\n",
       "      <td>1.359580</td>\n",
       "      <td>3.221482</td>\n",
       "    </tr>\n",
       "    <tr>\n",
       "      <th>min</th>\n",
       "      <td>1.000000</td>\n",
       "      <td>1.010000</td>\n",
       "      <td>38.200000</td>\n",
       "      <td>80.780000</td>\n",
       "    </tr>\n",
       "    <tr>\n",
       "      <th>25%</th>\n",
       "      <td>6.000000</td>\n",
       "      <td>1.550000</td>\n",
       "      <td>49.260000</td>\n",
       "      <td>96.180000</td>\n",
       "    </tr>\n",
       "    <tr>\n",
       "      <th>50%</th>\n",
       "      <td>12.000000</td>\n",
       "      <td>1.990000</td>\n",
       "      <td>49.950000</td>\n",
       "      <td>96.630000</td>\n",
       "    </tr>\n",
       "    <tr>\n",
       "      <th>75%</th>\n",
       "      <td>17.000000</td>\n",
       "      <td>2.430000</td>\n",
       "      <td>50.630000</td>\n",
       "      <td>97.270000</td>\n",
       "    </tr>\n",
       "    <tr>\n",
       "      <th>max</th>\n",
       "      <td>22.000000</td>\n",
       "      <td>3.990000</td>\n",
       "      <td>53.590000</td>\n",
       "      <td>98.450000</td>\n",
       "    </tr>\n",
       "  </tbody>\n",
       "</table>\n",
       "</div>"
      ],
      "text/plain": [
       "                LoT            pH          Temp       Process\n",
       "count  10019.000000  10019.000000  10019.000000  10019.000000\n",
       "mean      11.495758      1.998418     49.860814     96.059070\n",
       "std        6.366294      0.553415      1.359580      3.221482\n",
       "min        1.000000      1.010000     38.200000     80.780000\n",
       "25%        6.000000      1.550000     49.260000     96.180000\n",
       "50%       12.000000      1.990000     49.950000     96.630000\n",
       "75%       17.000000      2.430000     50.630000     97.270000\n",
       "max       22.000000      3.990000     53.590000     98.450000"
      ]
     },
     "execution_count": 31,
     "metadata": {},
     "output_type": "execute_result"
    }
   ],
   "source": [
    "# 검증용 데이터인 test_data의 정보 확인\n",
    "test_data.describe()"
   ]
  },
  {
   "cell_type": "markdown",
   "id": "b774cb43-a343-43e9-8a01-3f4a732cc975",
   "metadata": {},
   "source": [
    "### 시각화 모듈 사용"
   ]
  },
  {
   "cell_type": "code",
   "execution_count": 32,
   "id": "e7ea955f",
   "metadata": {
    "tags": []
   },
   "outputs": [],
   "source": [
    "import seaborn as sns"
   ]
  },
  {
   "cell_type": "markdown",
   "id": "ed08ffd2",
   "metadata": {},
   "source": [
    "# 모델링"
   ]
  },
  {
   "cell_type": "markdown",
   "id": "60799216",
   "metadata": {},
   "source": [
    "# Decision Tree Regressor Model"
   ]
  },
  {
   "cell_type": "markdown",
   "id": "baac357d",
   "metadata": {},
   "source": [
    "Decision Tree를 사용한 모델을 구성해 train data를 학습시켰다. \\\n",
    "Input을 pH, Temp로 Output을 Process로 구성해서, pH, Temp 값이 입력되면 Process 값을 예측하는 Decision Tree 회귀 모델을 구성했다. \\\n",
    "구성된 Tree는 시각화하여, tree의 구조를 눈으로 확인할 수 있다."
   ]
  },
  {
   "cell_type": "markdown",
   "id": "f3678999-4de8-440e-b037-376f6c904645",
   "metadata": {},
   "source": [
    "### 학습 모델 생성"
   ]
  },
  {
   "cell_type": "code",
   "execution_count": 33,
   "id": "bfacf6b3",
   "metadata": {
    "tags": []
   },
   "outputs": [],
   "source": [
    "# 튜닝하지 않은 Decision Tree 회귀 모델 구성\n",
    "clf = tree.DecisionTreeRegressor()"
   ]
  },
  {
   "cell_type": "markdown",
   "id": "f14ab248-bf4e-42d5-a08a-a979af29f3d0",
   "metadata": {},
   "source": [
    "### 모델 학습"
   ]
  },
  {
   "cell_type": "code",
   "execution_count": 34,
   "id": "17554c87",
   "metadata": {
    "tags": []
   },
   "outputs": [],
   "source": [
    "# 모델 학습 후 clf로 모델 저장\n",
    "clf = clf.fit(train_data[['pH','Temp']], train_data[['Process']])"
   ]
  },
  {
   "cell_type": "markdown",
   "id": "4a614eb9",
   "metadata": {},
   "source": [
    "vis : Model 시각화 진행 유무에 대한 trigger 역할\n",
    "\n",
    "* 모델을 시각화하여 보고 싶으면 vis = True로 진행\n",
    "* 모델을 시각화하고 싶지 않으면 vis = False로 진행\n",
    "\n",
    "기본적인 Decision Tree Regressor Model의 경우 Tree Depth가 정해져있지 않기 때문에 깊은 모델이 만들어지며, 이에 따라 시각화하는데 시간이 오래 걸릴 수 있음."
   ]
  },
  {
   "cell_type": "markdown",
   "id": "0c674f43-3440-4e95-97ff-485178a004ff",
   "metadata": {},
   "source": [
    "### 시각화 진행 유무 변수 선언"
   ]
  },
  {
   "cell_type": "code",
   "execution_count": 35,
   "id": "8e08c5c0",
   "metadata": {
    "tags": []
   },
   "outputs": [],
   "source": [
    "vis = False"
   ]
  },
  {
   "cell_type": "markdown",
   "id": "ff4dd1a1-e14f-4471-ae39-078e1a971aaa",
   "metadata": {},
   "source": [
    "### 시각화 진행 유무 변수에 따라 시각화 진행"
   ]
  },
  {
   "cell_type": "code",
   "execution_count": 36,
   "id": "622d4177",
   "metadata": {
    "tags": []
   },
   "outputs": [],
   "source": [
    "# 모델 시각화\n",
    "if vis:\n",
    "    plt.figure(figsize=(10, 30))\n",
    "    tree.plot_tree(clf)\n",
    "    plt.show()"
   ]
  },
  {
   "cell_type": "markdown",
   "id": "d9835d8d",
   "metadata": {},
   "source": [
    "# Decision Tree Regressor Model Tuning"
   ]
  },
  {
   "cell_type": "markdown",
   "id": "34eb87f4",
   "metadata": {},
   "source": [
    "Decision Tree의 뻗어 나가는 깊이를 3으로 제한하는 모델을 구성해 train data를 학습시켰다. \\\n",
    "이렇게 튜닝한 모델을 학습해 시각화했다."
   ]
  },
  {
   "cell_type": "markdown",
   "id": "93e4e259-4705-40e8-b994-6cc84468d6fc",
   "metadata": {},
   "source": [
    "### 튜닝한 모델 생성"
   ]
  },
  {
   "cell_type": "code",
   "execution_count": 37,
   "id": "81c5ce62",
   "metadata": {
    "tags": []
   },
   "outputs": [],
   "source": [
    "# 트리의 최대 깊이를 3으로 제한하여 모델 형성(3번까지만 트리를 뻗을 수 있도록 제한함)\n",
    "new_clf = tree.DecisionTreeRegressor(max_depth=3)"
   ]
  },
  {
   "cell_type": "markdown",
   "id": "b6166cde-2b74-4afb-857b-6fd46e8e8c44",
   "metadata": {},
   "source": [
    "### 튜닝한 모델 학습"
   ]
  },
  {
   "cell_type": "code",
   "execution_count": 38,
   "id": "916b31dd",
   "metadata": {
    "tags": []
   },
   "outputs": [],
   "source": [
    "# 모델 학습 후 new_clf로 모델 저장\n",
    "new_clf = new_clf.fit(train_data[['pH','Temp']], train_data[['Process']])"
   ]
  },
  {
   "cell_type": "markdown",
   "id": "21a173ab-c786-4071-8032-8bf645b97845",
   "metadata": {},
   "source": [
    "### 튜닝한 모델 시각화"
   ]
  },
  {
   "cell_type": "code",
   "execution_count": 39,
   "id": "0f955526",
   "metadata": {
    "tags": []
   },
   "outputs": [
    {
     "data": {
      "image/png": "[encoded data removed]",
      "text/plain": [
       "<Figure size 1000x1000 with 1 Axes>"
      ]
     },
     "metadata": {},
     "output_type": "display_data"
    }
   ],
   "source": [
    "# 학습된 모델 시각화\n",
    "plt.figure(figsize=(10, 10))\n",
    "tree.plot_tree(new_clf)\n",
    "plt.show()"
   ]
  },
  {
   "cell_type": "markdown",
   "id": "a2306361",
   "metadata": {},
   "source": [
    "# Test Model"
   ]
  },
  {
   "cell_type": "markdown",
   "id": "31107cb0",
   "metadata": {},
   "source": [
    "튜닝하지 않은 모델과 트리의 깊이를 지정해 튜닝한 모델의 성능을 비교했다. \\\n",
    "성능 비교를 위해 RMSE, Accuracy 값을 산출했다. \\\n",
    "classification_report를 이용해 모델의 성능을 확인했다. \\\n",
    "pH, Temp 데이터와 예측 값을 각 모델별로 3D plot으로 시각화했다."
   ]
  },
  {
   "cell_type": "markdown",
   "id": "52f8ac95",
   "metadata": {},
   "source": [
    "- rmse : 예측값과 실제값의 차이의 제곱 평균에 루트를 씌운 것. 낮을수록 좋은 성능을 지녔다고 할 수 있음\n",
    "- accuracy(정확도) : 전체 샘플 중 맞게 예측한 샘플 수의 비율. 높을수록 좋은 성능을 지녔다고 할 수 있음"
   ]
  },
  {
   "cell_type": "markdown",
   "id": "413d76af",
   "metadata": {},
   "source": [
    "### 튜닝하지 않은 모델 성능 평가(RMSE)"
   ]
  },
  {
   "cell_type": "code",
   "execution_count": 40,
   "id": "301f406f",
   "metadata": {
    "tags": []
   },
   "outputs": [
    {
     "name": "stdout",
     "output_type": "stream",
     "text": [
      "Decision Tree Model Predict :  [97.305  94.52   97.925  ... 98.36   96.4675 97.215 ]\n",
      "Decision Tree Model RMSE :  3.912141180333758\n"
     ]
    }
   ],
   "source": [
    "# 튜닝하지 않은 Decision Tree 모델로 test data 예측 실시 및 rmse 검증\n",
    "predicted_data = clf.predict(test_data[['pH', 'Temp']])\n",
    "print('Decision Tree Model Predict : ', predicted_data)\n",
    "rmse = sqrt(mean_squared_error(test_data['Process'], predicted_data))\n",
    "print('Decision Tree Model RMSE : ',rmse)"
   ]
  },
  {
   "cell_type": "markdown",
   "id": "9095afb5-63c2-4d75-a9ed-de434bae6d15",
   "metadata": {},
   "source": [
    "### 튜닝하지 않은 모델 성능 평가(Accuracy)"
   ]
  },
  {
   "cell_type": "code",
   "execution_count": 41,
   "id": "2e95c201",
   "metadata": {
    "tags": []
   },
   "outputs": [
    {
     "name": "stdout",
     "output_type": "stream",
     "text": [
      "accuracy  =  0.3330671723724923\n"
     ]
    }
   ],
   "source": [
    "# Accuracy(정확도) 검증\n",
    "y_test = test_data['Process']\n",
    "y_test = [round(y, 0) for y in y_test]\n",
    "y_pred = [round(y, 0) for y in predicted_data]\n",
    "print(\"accuracy  = \", accuracy_score(y_test, y_pred))"
   ]
  },
  {
   "cell_type": "markdown",
   "id": "871c572e-f434-41c6-b386-efb70c7cd86a",
   "metadata": {},
   "source": [
    "### 튜닝하지 않은 모델 성능 평가(Report)"
   ]
  },
  {
   "cell_type": "code",
   "execution_count": 42,
   "id": "2f304f29",
   "metadata": {
    "tags": []
   },
   "outputs": [
    {
     "name": "stdout",
     "output_type": "stream",
     "text": [
      "              precision    recall  f1-score   support\n",
      "\n",
      "        81.0       0.00      0.00      0.00        57\n",
      "        82.0       0.11      0.03      0.05       126\n",
      "        83.0       0.12      0.03      0.05       210\n",
      "        84.0       0.00      0.00      0.00       134\n",
      "        86.0       0.00      0.00      0.00         0\n",
      "        87.0       0.00      0.00      0.00         0\n",
      "        88.0       0.00      0.00      0.00         0\n",
      "        89.0       0.00      0.00      0.00         0\n",
      "        90.0       0.00      0.00      0.00         0\n",
      "        91.0       0.00      0.00      0.00         0\n",
      "        92.0       0.00      0.00      0.00         0\n",
      "        93.0       0.00      0.00      0.00         0\n",
      "        94.0       0.00      0.00      0.00         0\n",
      "        95.0       0.00      0.00      0.00        37\n",
      "        96.0       0.38      0.27      0.31      3647\n",
      "        97.0       0.41      0.53      0.47      4093\n",
      "        98.0       0.20      0.10      0.14      1715\n",
      "\n",
      "    accuracy                           0.33     10019\n",
      "   macro avg       0.07      0.06      0.06     10019\n",
      "weighted avg       0.35      0.33      0.33     10019\n",
      "\n"
     ]
    },
    {
     "name": "stderr",
     "output_type": "stream",
     "text": [
      "/home/ted/.local/lib/python3.10/site-packages/sklearn/metrics/_classification.py:1344: UndefinedMetricWarning: Recall and F-score are ill-defined and being set to 0.0 in labels with no true samples. Use `zero_division` parameter to control this behavior.\n",
      "  _warn_prf(average, modifier, msg_start, len(result))\n",
      "/home/ted/.local/lib/python3.10/site-packages/sklearn/metrics/_classification.py:1344: UndefinedMetricWarning: Recall and F-score are ill-defined and being set to 0.0 in labels with no true samples. Use `zero_division` parameter to control this behavior.\n",
      "  _warn_prf(average, modifier, msg_start, len(result))\n",
      "/home/ted/.local/lib/python3.10/site-packages/sklearn/metrics/_classification.py:1344: UndefinedMetricWarning: Recall and F-score are ill-defined and being set to 0.0 in labels with no true samples. Use `zero_division` parameter to control this behavior.\n",
      "  _warn_prf(average, modifier, msg_start, len(result))\n"
     ]
    }
   ],
   "source": [
    "# 모델 성능 평가\n",
    "print(classification_report(y_test, y_pred))"
   ]
  },
  {
   "cell_type": "markdown",
   "id": "6a668e41-5375-4fb9-a43f-9ad9d83b9ddb",
   "metadata": {},
   "source": [
    "### 튜닝하지 않은 모델 결과 3D 시각화"
   ]
  },
  {
   "cell_type": "code",
   "execution_count": 43,
   "id": "ae3142b6",
   "metadata": {
    "tags": []
   },
   "outputs": [
    {
     "data": {
      "image/png": "[encoded data removed]",
      "text/plain": [
       "<Figure size 640x480 with 1 Axes>"
      ]
     },
     "metadata": {},
     "output_type": "display_data"
    }
   ],
   "source": [
    "# test data로 예측한 결과를 3D로 시각화\n",
    "fig = plt.figure()\n",
    "ax = fig.add_subplot(projection='3d')\n",
    "ax.scatter(test_data['pH'], test_data['Temp'], predicted_data)\n",
    "ax.set_xlabel('pH Test Data')\n",
    "ax.set_ylabel('Temp Test Data')\n",
    "ax.set_zlabel('Estimated Process Data')\n",
    "plt.show()"
   ]
  },
  {
   "cell_type": "markdown",
   "id": "a1dcffdb",
   "metadata": {},
   "source": [
    "### 튜닝한 모델 성능 평가(RMSE)"
   ]
  },
  {
   "cell_type": "code",
   "execution_count": 44,
   "id": "cee59b8f",
   "metadata": {
    "tags": []
   },
   "outputs": [
    {
     "name": "stdout",
     "output_type": "stream",
     "text": [
      "Decision Tree Model Predict :  [96.05982169 96.05982169 96.31586436 ... 96.05982169 96.05982169\n",
      " 96.05982169]\n",
      "Decision Tree Model RMSE :  3.1835567341126247\n"
     ]
    }
   ],
   "source": [
    "# max_depth를 3으로 제한한 모델 예측 실시 및 rmse 검증\n",
    "predicted_data = new_clf.predict(test_data[['pH', 'Temp']])\n",
    "print('Decision Tree Model Predict : ', predicted_data)\n",
    "rmse = sqrt(mean_squared_error(test_data['Process'], predicted_data))\n",
    "print('Decision Tree Model RMSE : ',rmse)"
   ]
  },
  {
   "cell_type": "markdown",
   "id": "6b0b7efb-d34b-4810-9afe-c2ad3092ce46",
   "metadata": {},
   "source": [
    "### 튜닝한 모델 성능 평가(Accuracy)"
   ]
  },
  {
   "cell_type": "code",
   "execution_count": 45,
   "id": "66338a6e",
   "metadata": {
    "tags": []
   },
   "outputs": [
    {
     "name": "stdout",
     "output_type": "stream",
     "text": [
      "accuracy  =  0.3649066773131051\n"
     ]
    }
   ],
   "source": [
    "# Accuracy(정확도) 검증\n",
    "y_test = test_data['Process']\n",
    "y_test = [round(y, 0) for y in y_test]\n",
    "y_pred = [round(y, 0) for y in predicted_data]\n",
    "print(\"accuracy  = \", accuracy_score(y_test, y_pred))"
   ]
  },
  {
   "cell_type": "markdown",
   "id": "e2f5fe82-90a3-42d4-b114-b4cb7df60e78",
   "metadata": {},
   "source": [
    "### 튜닝한 모델 성능 평가(Report)"
   ]
  },
  {
   "cell_type": "code",
   "execution_count": 46,
   "id": "d7c80a34",
   "metadata": {
    "tags": []
   },
   "outputs": [
    {
     "name": "stdout",
     "output_type": "stream",
     "text": [
      "              precision    recall  f1-score   support\n",
      "\n",
      "        81.0       0.00      0.00      0.00        57\n",
      "        82.0       0.00      0.00      0.00       126\n",
      "        83.0       0.00      0.00      0.00       210\n",
      "        84.0       0.00      0.00      0.00       134\n",
      "        90.0       0.00      0.00      0.00         0\n",
      "        91.0       0.00      0.00      0.00         0\n",
      "        95.0       0.00      0.00      0.00        37\n",
      "        96.0       0.36      0.93      0.52      3647\n",
      "        97.0       0.45      0.06      0.11      4093\n",
      "        98.0       0.00      0.00      0.00      1715\n",
      "\n",
      "    accuracy                           0.36     10019\n",
      "   macro avg       0.08      0.10      0.06     10019\n",
      "weighted avg       0.32      0.36      0.24     10019\n",
      "\n"
     ]
    },
    {
     "name": "stderr",
     "output_type": "stream",
     "text": [
      "/home/ted/.local/lib/python3.10/site-packages/sklearn/metrics/_classification.py:1344: UndefinedMetricWarning: Precision and F-score are ill-defined and being set to 0.0 in labels with no predicted samples. Use `zero_division` parameter to control this behavior.\n",
      "  _warn_prf(average, modifier, msg_start, len(result))\n",
      "/home/ted/.local/lib/python3.10/site-packages/sklearn/metrics/_classification.py:1344: UndefinedMetricWarning: Recall and F-score are ill-defined and being set to 0.0 in labels with no true samples. Use `zero_division` parameter to control this behavior.\n",
      "  _warn_prf(average, modifier, msg_start, len(result))\n",
      "/home/ted/.local/lib/python3.10/site-packages/sklearn/metrics/_classification.py:1344: UndefinedMetricWarning: Precision and F-score are ill-defined and being set to 0.0 in labels with no predicted samples. Use `zero_division` parameter to control this behavior.\n",
      "  _warn_prf(average, modifier, msg_start, len(result))\n",
      "/home/ted/.local/lib/python3.10/site-packages/sklearn/metrics/_classification.py:1344: UndefinedMetricWarning: Recall and F-score are ill-defined and being set to 0.0 in labels with no true samples. Use `zero_division` parameter to control this behavior.\n",
      "  _warn_prf(average, modifier, msg_start, len(result))\n",
      "/home/ted/.local/lib/python3.10/site-packages/sklearn/metrics/_classification.py:1344: UndefinedMetricWarning: Precision and F-score are ill-defined and being set to 0.0 in labels with no predicted samples. Use `zero_division` parameter to control this behavior.\n",
      "  _warn_prf(average, modifier, msg_start, len(result))\n",
      "/home/ted/.local/lib/python3.10/site-packages/sklearn/metrics/_classification.py:1344: UndefinedMetricWarning: Recall and F-score are ill-defined and being set to 0.0 in labels with no true samples. Use `zero_division` parameter to control this behavior.\n",
      "  _warn_prf(average, modifier, msg_start, len(result))\n"
     ]
    }
   ],
   "source": [
    "# 모델 성능 평가\n",
    "print(classification_report(y_test, y_pred))"
   ]
  },
  {
   "cell_type": "markdown",
   "id": "c93bcd19-d812-478d-9753-6cecf4db6e79",
   "metadata": {},
   "source": [
    "### 튜닝한 모델 결과 3D 시각화"
   ]
  },
  {
   "cell_type": "code",
   "execution_count": 47,
   "id": "b924a074",
   "metadata": {
    "tags": []
   },
   "outputs": [
    {
     "data": {
      "image/png": "[encoded data removed]",
      "text/plain": [
       "<Figure size 640x480 with 1 Axes>"
      ]
     },
     "metadata": {},
     "output_type": "display_data"
    }
   ],
   "source": [
    "# test data로 예측한 결과를 3D로 시각화\n",
    "fig = plt.figure()\n",
    "ax = fig.add_subplot(projection='3d')\n",
    "ax.scatter(test_data['pH'], test_data['Temp'], predicted_data)\n",
    "ax.set_xlabel('pH Test Data')\n",
    "ax.set_ylabel('Temp Test Data')\n",
    "ax.set_zlabel('Estimated Process Data')\n",
    "plt.show()"
   ]
  }
 ],
 "metadata": {
  "kernelspec": {
   "display_name": "Python 3 (ipykernel)",
   "language": "python",
   "name": "python3"
  },
  "language_info": {
   "codemirror_mode": {
    "name": "ipython",
    "version": 3
   },
   "file_extension": ".py",
   "mimetype": "text/x-python",
   "name": "python",
   "nbconvert_exporter": "python",
   "pygments_lexer": "ipython3",
   "version": "3.10.6"
  }
 },
 "nbformat": 4,
 "nbformat_minor": 5
}
